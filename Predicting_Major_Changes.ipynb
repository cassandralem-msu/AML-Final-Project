{
 "cells": [
  {
   "cell_type": "markdown",
   "id": "ce5ec4ee-b956-4e56-b6d0-b653a46c7493",
   "metadata": {},
   "source": [
    "# Using ML to predict whether university students will change their major\n",
    "\n",
    "## Cassandra Lem"
   ]
  },
  {
   "cell_type": "markdown",
   "id": "bea2e170-8ae4-425b-89ed-ce8d606b590a",
   "metadata": {},
   "source": [
    "## Loading in the dataset and initial exploration\n",
    "\n",
    "##### Overview:\n",
    "- load in the student demographic dataset downloaded from https://zenodo.org/record/4114005#.ZDxbC3bMLIX as a Pandas dataframe\n",
    "- view the dataframe\n",
    "- plot part of a student's data, to show that we can work with the data\n",
    "- split the data into training and testing sets, so that we don't touch the testing set"
   ]
  },
  {
   "cell_type": "code",
   "execution_count": 1,
   "id": "8e7f2371",
   "metadata": {},
   "outputs": [],
   "source": [
    "import pandas as pd\n",
    "%matplotlib inline\n",
    "import matplotlib.pyplot as plt\n",
    "import numpy as np\n",
    "\n",
    "# read in the student demographic dataset\n",
    "student_data = pd.read_csv('anon_data.csv')"
   ]
  },
  {
   "cell_type": "code",
   "execution_count": 2,
   "id": "c892d0ae",
   "metadata": {},
   "outputs": [
    {
     "data": {
      "text/html": [
       "<div>\n",
       "<style scoped>\n",
       "    .dataframe tbody tr th:only-of-type {\n",
       "        vertical-align: middle;\n",
       "    }\n",
       "\n",
       "    .dataframe tbody tr th {\n",
       "        vertical-align: top;\n",
       "    }\n",
       "\n",
       "    .dataframe thead th {\n",
       "        text-align: right;\n",
       "    }\n",
       "</style>\n",
       "<table border=\"1\" class=\"dataframe\">\n",
       "  <thead>\n",
       "    <tr style=\"text-align: right;\">\n",
       "      <th></th>\n",
       "      <th>first_course_year</th>\n",
       "      <th>semester_idx</th>\n",
       "      <th>female</th>\n",
       "      <th>white_asian</th>\n",
       "      <th>start_age</th>\n",
       "      <th>first_gen</th>\n",
       "      <th>HS_Zip_Code</th>\n",
       "      <th>changed_major</th>\n",
       "      <th>n_majors</th>\n",
       "      <th>total_semester_credit_hours</th>\n",
       "      <th>...</th>\n",
       "      <th>Geography</th>\n",
       "      <th>Median income (dollars); Estimate; Households</th>\n",
       "      <th>Median income (dollars); Margin of Error; Households</th>\n",
       "      <th>Number; Estimate; FAMILIES - Families</th>\n",
       "      <th>Number; Margin of Error; FAMILIES - Families</th>\n",
       "      <th>Median income (dollars); Estimate; FAMILIES - Families</th>\n",
       "      <th>Median income (dollars); Margin of Error; FAMILIES - Families</th>\n",
       "      <th>zipstr</th>\n",
       "      <th>zip_median_income_log</th>\n",
       "      <th>anon_id</th>\n",
       "    </tr>\n",
       "  </thead>\n",
       "  <tbody>\n",
       "    <tr>\n",
       "      <th>0</th>\n",
       "      <td>13.0</td>\n",
       "      <td>1.0</td>\n",
       "      <td>1.0</td>\n",
       "      <td>1.0</td>\n",
       "      <td>19.0</td>\n",
       "      <td>0.0</td>\n",
       "      <td>NaN</td>\n",
       "      <td>0.0</td>\n",
       "      <td>1.0</td>\n",
       "      <td>14.0</td>\n",
       "      <td>...</td>\n",
       "      <td>NaN</td>\n",
       "      <td>NaN</td>\n",
       "      <td>NaN</td>\n",
       "      <td>NaN</td>\n",
       "      <td>NaN</td>\n",
       "      <td>NaN</td>\n",
       "      <td>NaN</td>\n",
       "      <td>NaN</td>\n",
       "      <td>NaN</td>\n",
       "      <td>125713</td>\n",
       "    </tr>\n",
       "    <tr>\n",
       "      <th>1</th>\n",
       "      <td>17.0</td>\n",
       "      <td>1.0</td>\n",
       "      <td>1.0</td>\n",
       "      <td>1.0</td>\n",
       "      <td>18.0</td>\n",
       "      <td>1.0</td>\n",
       "      <td>48867</td>\n",
       "      <td>0.0</td>\n",
       "      <td>2.0</td>\n",
       "      <td>14.0</td>\n",
       "      <td>...</td>\n",
       "      <td>ZCTA5 48867</td>\n",
       "      <td>43388.0</td>\n",
       "      <td>2198.0</td>\n",
       "      <td>7417.0</td>\n",
       "      <td>211.0</td>\n",
       "      <td>56442.0</td>\n",
       "      <td>4490.0</td>\n",
       "      <td>48867.0</td>\n",
       "      <td>4.751602</td>\n",
       "      <td>160343</td>\n",
       "    </tr>\n",
       "    <tr>\n",
       "      <th>2</th>\n",
       "      <td>3.0</td>\n",
       "      <td>1.0</td>\n",
       "      <td>0.0</td>\n",
       "      <td>1.0</td>\n",
       "      <td>26.0</td>\n",
       "      <td>0.0</td>\n",
       "      <td>NaN</td>\n",
       "      <td>0.0</td>\n",
       "      <td>1.0</td>\n",
       "      <td>10.0</td>\n",
       "      <td>...</td>\n",
       "      <td>NaN</td>\n",
       "      <td>NaN</td>\n",
       "      <td>NaN</td>\n",
       "      <td>NaN</td>\n",
       "      <td>NaN</td>\n",
       "      <td>NaN</td>\n",
       "      <td>NaN</td>\n",
       "      <td>NaN</td>\n",
       "      <td>NaN</td>\n",
       "      <td>34721</td>\n",
       "    </tr>\n",
       "    <tr>\n",
       "      <th>3</th>\n",
       "      <td>0.0</td>\n",
       "      <td>1.0</td>\n",
       "      <td>0.0</td>\n",
       "      <td>1.0</td>\n",
       "      <td>18.0</td>\n",
       "      <td>0.0</td>\n",
       "      <td>34652</td>\n",
       "      <td>0.0</td>\n",
       "      <td>1.0</td>\n",
       "      <td>15.0</td>\n",
       "      <td>...</td>\n",
       "      <td>ZCTA5 34652</td>\n",
       "      <td>36329.0</td>\n",
       "      <td>3082.0</td>\n",
       "      <td>5958.0</td>\n",
       "      <td>369.0</td>\n",
       "      <td>48205.0</td>\n",
       "      <td>3885.0</td>\n",
       "      <td>34652.0</td>\n",
       "      <td>4.683092</td>\n",
       "      <td>6446</td>\n",
       "    </tr>\n",
       "    <tr>\n",
       "      <th>4</th>\n",
       "      <td>9.0</td>\n",
       "      <td>1.0</td>\n",
       "      <td>0.0</td>\n",
       "      <td>1.0</td>\n",
       "      <td>18.0</td>\n",
       "      <td>0.0</td>\n",
       "      <td>48346</td>\n",
       "      <td>0.0</td>\n",
       "      <td>1.0</td>\n",
       "      <td>15.0</td>\n",
       "      <td>...</td>\n",
       "      <td>ZCTA5 48346</td>\n",
       "      <td>74958.0</td>\n",
       "      <td>5627.0</td>\n",
       "      <td>6288.0</td>\n",
       "      <td>294.0</td>\n",
       "      <td>88802.0</td>\n",
       "      <td>7348.0</td>\n",
       "      <td>48346.0</td>\n",
       "      <td>4.948423</td>\n",
       "      <td>84932</td>\n",
       "    </tr>\n",
       "  </tbody>\n",
       "</table>\n",
       "<p>5 rows × 38 columns</p>\n",
       "</div>"
      ],
      "text/plain": [
       "   first_course_year  semester_idx  female  white_asian  start_age  first_gen  \\\n",
       "0               13.0           1.0     1.0          1.0       19.0        0.0   \n",
       "1               17.0           1.0     1.0          1.0       18.0        1.0   \n",
       "2                3.0           1.0     0.0          1.0       26.0        0.0   \n",
       "3                0.0           1.0     0.0          1.0       18.0        0.0   \n",
       "4                9.0           1.0     0.0          1.0       18.0        0.0   \n",
       "\n",
       "  HS_Zip_Code  changed_major  n_majors  total_semester_credit_hours  ...  \\\n",
       "0         NaN            0.0       1.0                         14.0  ...   \n",
       "1       48867            0.0       2.0                         14.0  ...   \n",
       "2         NaN            0.0       1.0                         10.0  ...   \n",
       "3       34652            0.0       1.0                         15.0  ...   \n",
       "4       48346            0.0       1.0                         15.0  ...   \n",
       "\n",
       "     Geography  Median income (dollars); Estimate; Households  \\\n",
       "0          NaN                                            NaN   \n",
       "1  ZCTA5 48867                                        43388.0   \n",
       "2          NaN                                            NaN   \n",
       "3  ZCTA5 34652                                        36329.0   \n",
       "4  ZCTA5 48346                                        74958.0   \n",
       "\n",
       "   Median income (dollars); Margin of Error; Households  \\\n",
       "0                                                NaN      \n",
       "1                                             2198.0      \n",
       "2                                                NaN      \n",
       "3                                             3082.0      \n",
       "4                                             5627.0      \n",
       "\n",
       "   Number; Estimate; FAMILIES - Families  \\\n",
       "0                                    NaN   \n",
       "1                                 7417.0   \n",
       "2                                    NaN   \n",
       "3                                 5958.0   \n",
       "4                                 6288.0   \n",
       "\n",
       "   Number; Margin of Error; FAMILIES - Families  \\\n",
       "0                                           NaN   \n",
       "1                                         211.0   \n",
       "2                                           NaN   \n",
       "3                                         369.0   \n",
       "4                                         294.0   \n",
       "\n",
       "   Median income (dollars); Estimate; FAMILIES - Families  \\\n",
       "0                                                NaN        \n",
       "1                                            56442.0        \n",
       "2                                                NaN        \n",
       "3                                            48205.0        \n",
       "4                                            88802.0        \n",
       "\n",
       "   Median income (dollars); Margin of Error; FAMILIES - Families   zipstr  \\\n",
       "0                                                NaN                  NaN   \n",
       "1                                             4490.0              48867.0   \n",
       "2                                                NaN                  NaN   \n",
       "3                                             3885.0              34652.0   \n",
       "4                                             7348.0              48346.0   \n",
       "\n",
       "   zip_median_income_log  anon_id  \n",
       "0                    NaN   125713  \n",
       "1               4.751602   160343  \n",
       "2                    NaN    34721  \n",
       "3               4.683092     6446  \n",
       "4               4.948423    84932  \n",
       "\n",
       "[5 rows x 38 columns]"
      ]
     },
     "execution_count": 2,
     "metadata": {},
     "output_type": "execute_result"
    }
   ],
   "source": [
    "student_data.head()"
   ]
  },
  {
   "cell_type": "code",
   "execution_count": 3,
   "id": "d3ad9766",
   "metadata": {},
   "outputs": [
    {
     "name": "stdout",
     "output_type": "stream",
     "text": [
      "<class 'pandas.core.frame.DataFrame'>\n",
      "RangeIndex: 1553524 entries, 0 to 1553523\n",
      "Data columns (total 38 columns):\n",
      " #   Column                                                         Non-Null Count    Dtype  \n",
      "---  ------                                                         --------------    -----  \n",
      " 0   first_course_year                                              1553524 non-null  float64\n",
      " 1   semester_idx                                                   1553524 non-null  float64\n",
      " 2   female                                                         1553524 non-null  float64\n",
      " 3   white_asian                                                    1553524 non-null  float64\n",
      " 4   start_age                                                      1553516 non-null  float64\n",
      " 5   first_gen                                                      1553524 non-null  float64\n",
      " 6   HS_Zip_Code                                                    1321499 non-null  object \n",
      " 7   changed_major                                                  1553524 non-null  float64\n",
      " 8   n_majors                                                       1553524 non-null  float64\n",
      " 9   total_semester_credit_hours                                    1553524 non-null  float64\n",
      " 10  cumulative_credit_hours                                        1553524 non-null  float64\n",
      " 11  graduated_semester_idx                                         1353358 non-null  float64\n",
      " 12  graduates_next_semester                                        1553524 non-null  float64\n",
      " 13  graduated                                                      1553524 non-null  float64\n",
      " 14  AP_credit_hours                                                1553524 non-null  float64\n",
      " 15  major_credits                                                  1553524 non-null  float64\n",
      " 16  nonmajor_credits                                               1553524 non-null  float64\n",
      " 17  major_gpa                                                      1553524 non-null  float64\n",
      " 18  nonmajor_gpa                                                   1553524 non-null  float64\n",
      " 19  enrolled_in_previous_semester                                  1535684 non-null  float64\n",
      " 20  avg_grade                                                      1553524 non-null  float64\n",
      " 21  cumulative_avg_grade                                           1553524 non-null  float64\n",
      " 22  fraction_above_or_below_fulltime_credithours                   1553524 non-null  float64\n",
      " 23  hs_gpa                                                         1346460 non-null  float64\n",
      " 24  math_placement_score                                           1237692 non-null  float64\n",
      " 25  train                                                          1553524 non-null  int64  \n",
      " 26  Id                                                             1214473 non-null  object \n",
      " 27  Id2                                                            1214473 non-null  float64\n",
      " 28  Geography                                                      1214473 non-null  object \n",
      " 29  Median income (dollars); Estimate; Households                  1214011 non-null  float64\n",
      " 30  Median income (dollars); Margin of Error; Households           1213999 non-null  float64\n",
      " 31  Number; Estimate; FAMILIES - Families                          1214473 non-null  float64\n",
      " 32  Number; Margin of Error; FAMILIES - Families                   1214473 non-null  float64\n",
      " 33  Median income (dollars); Estimate; FAMILIES - Families         1213914 non-null  float64\n",
      " 34  Median income (dollars); Margin of Error; FAMILIES - Families  1213886 non-null  float64\n",
      " 35  zipstr                                                         1214473 non-null  float64\n",
      " 36  zip_median_income_log                                          1213914 non-null  float64\n",
      " 37  anon_id                                                        1553524 non-null  int64  \n",
      "dtypes: float64(33), int64(2), object(3)\n",
      "memory usage: 450.4+ MB\n"
     ]
    }
   ],
   "source": [
    "student_data.info()"
   ]
  },
  {
   "cell_type": "code",
   "execution_count": 4,
   "id": "73bf18d4-3967-4934-ad77-f4c5cb33af88",
   "metadata": {},
   "outputs": [
    {
     "data": {
      "text/html": [
       "<div>\n",
       "<style scoped>\n",
       "    .dataframe tbody tr th:only-of-type {\n",
       "        vertical-align: middle;\n",
       "    }\n",
       "\n",
       "    .dataframe tbody tr th {\n",
       "        vertical-align: top;\n",
       "    }\n",
       "\n",
       "    .dataframe thead th {\n",
       "        text-align: right;\n",
       "    }\n",
       "</style>\n",
       "<table border=\"1\" class=\"dataframe\">\n",
       "  <thead>\n",
       "    <tr style=\"text-align: right;\">\n",
       "      <th></th>\n",
       "      <th>first_course_year</th>\n",
       "      <th>semester_idx</th>\n",
       "      <th>female</th>\n",
       "      <th>white_asian</th>\n",
       "      <th>start_age</th>\n",
       "      <th>first_gen</th>\n",
       "      <th>changed_major</th>\n",
       "      <th>n_majors</th>\n",
       "      <th>total_semester_credit_hours</th>\n",
       "      <th>cumulative_credit_hours</th>\n",
       "      <th>...</th>\n",
       "      <th>Id2</th>\n",
       "      <th>Median income (dollars); Estimate; Households</th>\n",
       "      <th>Median income (dollars); Margin of Error; Households</th>\n",
       "      <th>Number; Estimate; FAMILIES - Families</th>\n",
       "      <th>Number; Margin of Error; FAMILIES - Families</th>\n",
       "      <th>Median income (dollars); Estimate; FAMILIES - Families</th>\n",
       "      <th>Median income (dollars); Margin of Error; FAMILIES - Families</th>\n",
       "      <th>zipstr</th>\n",
       "      <th>zip_median_income_log</th>\n",
       "      <th>anon_id</th>\n",
       "    </tr>\n",
       "  </thead>\n",
       "  <tbody>\n",
       "    <tr>\n",
       "      <th>count</th>\n",
       "      <td>1.553524e+06</td>\n",
       "      <td>1.553524e+06</td>\n",
       "      <td>1.553524e+06</td>\n",
       "      <td>1.553524e+06</td>\n",
       "      <td>1.553516e+06</td>\n",
       "      <td>1.553524e+06</td>\n",
       "      <td>1.553524e+06</td>\n",
       "      <td>1.553524e+06</td>\n",
       "      <td>1.553524e+06</td>\n",
       "      <td>1.553524e+06</td>\n",
       "      <td>...</td>\n",
       "      <td>1.214473e+06</td>\n",
       "      <td>1.214011e+06</td>\n",
       "      <td>1.213999e+06</td>\n",
       "      <td>1.214473e+06</td>\n",
       "      <td>1.214473e+06</td>\n",
       "      <td>1.213914e+06</td>\n",
       "      <td>1.213886e+06</td>\n",
       "      <td>1.214473e+06</td>\n",
       "      <td>1.213914e+06</td>\n",
       "      <td>1.553524e+06</td>\n",
       "    </tr>\n",
       "    <tr>\n",
       "      <th>mean</th>\n",
       "      <td>1.044161e+01</td>\n",
       "      <td>5.816834e+00</td>\n",
       "      <td>5.381526e-01</td>\n",
       "      <td>8.411380e-01</td>\n",
       "      <td>1.891371e+01</td>\n",
       "      <td>6.687505e-02</td>\n",
       "      <td>1.029395e-01</td>\n",
       "      <td>1.447938e+00</td>\n",
       "      <td>1.211224e+01</td>\n",
       "      <td>6.554879e+01</td>\n",
       "      <td>...</td>\n",
       "      <td>4.854853e+04</td>\n",
       "      <td>6.866413e+04</td>\n",
       "      <td>4.404016e+03</td>\n",
       "      <td>6.295577e+03</td>\n",
       "      <td>2.568353e+02</td>\n",
       "      <td>8.479300e+04</td>\n",
       "      <td>5.922059e+03</td>\n",
       "      <td>4.854853e+04</td>\n",
       "      <td>4.895082e+00</td>\n",
       "      <td>9.696487e+04</td>\n",
       "    </tr>\n",
       "    <tr>\n",
       "      <th>std</th>\n",
       "      <td>6.007226e+00</td>\n",
       "      <td>3.538393e+00</td>\n",
       "      <td>4.985424e-01</td>\n",
       "      <td>3.655475e-01</td>\n",
       "      <td>2.332895e+00</td>\n",
       "      <td>2.498056e-01</td>\n",
       "      <td>3.038800e-01</td>\n",
       "      <td>7.859206e-01</td>\n",
       "      <td>3.588156e+00</td>\n",
       "      <td>3.689527e+01</td>\n",
       "      <td>...</td>\n",
       "      <td>6.961209e+03</td>\n",
       "      <td>2.773536e+04</td>\n",
       "      <td>2.527117e+03</td>\n",
       "      <td>3.181366e+03</td>\n",
       "      <td>9.373243e+01</td>\n",
       "      <td>3.258884e+04</td>\n",
       "      <td>3.494210e+03</td>\n",
       "      <td>6.961209e+03</td>\n",
       "      <td>1.756870e-01</td>\n",
       "      <td>5.428954e+04</td>\n",
       "    </tr>\n",
       "    <tr>\n",
       "      <th>min</th>\n",
       "      <td>0.000000e+00</td>\n",
       "      <td>1.000000e+00</td>\n",
       "      <td>0.000000e+00</td>\n",
       "      <td>0.000000e+00</td>\n",
       "      <td>1.400000e+01</td>\n",
       "      <td>0.000000e+00</td>\n",
       "      <td>0.000000e+00</td>\n",
       "      <td>1.000000e+00</td>\n",
       "      <td>1.000000e+00</td>\n",
       "      <td>1.000000e+00</td>\n",
       "      <td>...</td>\n",
       "      <td>6.930000e+02</td>\n",
       "      <td>1.087300e+04</td>\n",
       "      <td>8.670000e+02</td>\n",
       "      <td>0.000000e+00</td>\n",
       "      <td>6.000000e+00</td>\n",
       "      <td>9.081000e+03</td>\n",
       "      <td>1.269000e+03</td>\n",
       "      <td>6.930000e+02</td>\n",
       "      <td>3.958134e+00</td>\n",
       "      <td>0.000000e+00</td>\n",
       "    </tr>\n",
       "    <tr>\n",
       "      <th>25%</th>\n",
       "      <td>5.000000e+00</td>\n",
       "      <td>3.000000e+00</td>\n",
       "      <td>0.000000e+00</td>\n",
       "      <td>1.000000e+00</td>\n",
       "      <td>1.800000e+01</td>\n",
       "      <td>0.000000e+00</td>\n",
       "      <td>0.000000e+00</td>\n",
       "      <td>1.000000e+00</td>\n",
       "      <td>1.100000e+01</td>\n",
       "      <td>3.200000e+01</td>\n",
       "      <td>...</td>\n",
       "      <td>4.817600e+04</td>\n",
       "      <td>4.969200e+04</td>\n",
       "      <td>2.805000e+03</td>\n",
       "      <td>4.087000e+03</td>\n",
       "      <td>1.890000e+02</td>\n",
       "      <td>6.196200e+04</td>\n",
       "      <td>3.815000e+03</td>\n",
       "      <td>4.817600e+04</td>\n",
       "      <td>4.792125e+00</td>\n",
       "      <td>5.058500e+04</td>\n",
       "    </tr>\n",
       "    <tr>\n",
       "      <th>50%</th>\n",
       "      <td>1.100000e+01</td>\n",
       "      <td>5.000000e+00</td>\n",
       "      <td>1.000000e+00</td>\n",
       "      <td>1.000000e+00</td>\n",
       "      <td>1.800000e+01</td>\n",
       "      <td>0.000000e+00</td>\n",
       "      <td>0.000000e+00</td>\n",
       "      <td>1.000000e+00</td>\n",
       "      <td>1.300000e+01</td>\n",
       "      <td>6.200000e+01</td>\n",
       "      <td>...</td>\n",
       "      <td>4.838200e+04</td>\n",
       "      <td>6.364600e+04</td>\n",
       "      <td>3.688000e+03</td>\n",
       "      <td>6.064000e+03</td>\n",
       "      <td>2.490000e+02</td>\n",
       "      <td>8.057400e+04</td>\n",
       "      <td>5.208000e+03</td>\n",
       "      <td>4.838200e+04</td>\n",
       "      <td>4.906195e+00</td>\n",
       "      <td>9.835100e+04</td>\n",
       "    </tr>\n",
       "    <tr>\n",
       "      <th>75%</th>\n",
       "      <td>1.600000e+01</td>\n",
       "      <td>8.000000e+00</td>\n",
       "      <td>1.000000e+00</td>\n",
       "      <td>1.000000e+00</td>\n",
       "      <td>1.900000e+01</td>\n",
       "      <td>0.000000e+00</td>\n",
       "      <td>0.000000e+00</td>\n",
       "      <td>2.000000e+00</td>\n",
       "      <td>1.400000e+01</td>\n",
       "      <td>9.400000e+01</td>\n",
       "      <td>...</td>\n",
       "      <td>4.900700e+04</td>\n",
       "      <td>8.169600e+04</td>\n",
       "      <td>5.212000e+03</td>\n",
       "      <td>8.221000e+03</td>\n",
       "      <td>3.220000e+02</td>\n",
       "      <td>9.920600e+04</td>\n",
       "      <td>6.860000e+03</td>\n",
       "      <td>4.900700e+04</td>\n",
       "      <td>4.996538e+00</td>\n",
       "      <td>1.440540e+05</td>\n",
       "    </tr>\n",
       "    <tr>\n",
       "      <th>max</th>\n",
       "      <td>2.000000e+01</td>\n",
       "      <td>1.600000e+01</td>\n",
       "      <td>1.000000e+00</td>\n",
       "      <td>1.000000e+00</td>\n",
       "      <td>7.300000e+01</td>\n",
       "      <td>1.000000e+00</td>\n",
       "      <td>1.000000e+00</td>\n",
       "      <td>1.500000e+01</td>\n",
       "      <td>3.200000e+01</td>\n",
       "      <td>2.220000e+02</td>\n",
       "      <td>...</td>\n",
       "      <td>9.980100e+04</td>\n",
       "      <td>2.500000e+05</td>\n",
       "      <td>7.285000e+04</td>\n",
       "      <td>2.778300e+04</td>\n",
       "      <td>8.780000e+02</td>\n",
       "      <td>2.500000e+05</td>\n",
       "      <td>1.244510e+05</td>\n",
       "      <td>9.980100e+04</td>\n",
       "      <td>5.397940e+00</td>\n",
       "      <td>1.886840e+05</td>\n",
       "    </tr>\n",
       "  </tbody>\n",
       "</table>\n",
       "<p>8 rows × 35 columns</p>\n",
       "</div>"
      ],
      "text/plain": [
       "       first_course_year  semester_idx        female   white_asian  \\\n",
       "count       1.553524e+06  1.553524e+06  1.553524e+06  1.553524e+06   \n",
       "mean        1.044161e+01  5.816834e+00  5.381526e-01  8.411380e-01   \n",
       "std         6.007226e+00  3.538393e+00  4.985424e-01  3.655475e-01   \n",
       "min         0.000000e+00  1.000000e+00  0.000000e+00  0.000000e+00   \n",
       "25%         5.000000e+00  3.000000e+00  0.000000e+00  1.000000e+00   \n",
       "50%         1.100000e+01  5.000000e+00  1.000000e+00  1.000000e+00   \n",
       "75%         1.600000e+01  8.000000e+00  1.000000e+00  1.000000e+00   \n",
       "max         2.000000e+01  1.600000e+01  1.000000e+00  1.000000e+00   \n",
       "\n",
       "          start_age     first_gen  changed_major      n_majors  \\\n",
       "count  1.553516e+06  1.553524e+06   1.553524e+06  1.553524e+06   \n",
       "mean   1.891371e+01  6.687505e-02   1.029395e-01  1.447938e+00   \n",
       "std    2.332895e+00  2.498056e-01   3.038800e-01  7.859206e-01   \n",
       "min    1.400000e+01  0.000000e+00   0.000000e+00  1.000000e+00   \n",
       "25%    1.800000e+01  0.000000e+00   0.000000e+00  1.000000e+00   \n",
       "50%    1.800000e+01  0.000000e+00   0.000000e+00  1.000000e+00   \n",
       "75%    1.900000e+01  0.000000e+00   0.000000e+00  2.000000e+00   \n",
       "max    7.300000e+01  1.000000e+00   1.000000e+00  1.500000e+01   \n",
       "\n",
       "       total_semester_credit_hours  cumulative_credit_hours  ...  \\\n",
       "count                 1.553524e+06             1.553524e+06  ...   \n",
       "mean                  1.211224e+01             6.554879e+01  ...   \n",
       "std                   3.588156e+00             3.689527e+01  ...   \n",
       "min                   1.000000e+00             1.000000e+00  ...   \n",
       "25%                   1.100000e+01             3.200000e+01  ...   \n",
       "50%                   1.300000e+01             6.200000e+01  ...   \n",
       "75%                   1.400000e+01             9.400000e+01  ...   \n",
       "max                   3.200000e+01             2.220000e+02  ...   \n",
       "\n",
       "                Id2  Median income (dollars); Estimate; Households  \\\n",
       "count  1.214473e+06                                   1.214011e+06   \n",
       "mean   4.854853e+04                                   6.866413e+04   \n",
       "std    6.961209e+03                                   2.773536e+04   \n",
       "min    6.930000e+02                                   1.087300e+04   \n",
       "25%    4.817600e+04                                   4.969200e+04   \n",
       "50%    4.838200e+04                                   6.364600e+04   \n",
       "75%    4.900700e+04                                   8.169600e+04   \n",
       "max    9.980100e+04                                   2.500000e+05   \n",
       "\n",
       "       Median income (dollars); Margin of Error; Households  \\\n",
       "count                                       1.213999e+06      \n",
       "mean                                        4.404016e+03      \n",
       "std                                         2.527117e+03      \n",
       "min                                         8.670000e+02      \n",
       "25%                                         2.805000e+03      \n",
       "50%                                         3.688000e+03      \n",
       "75%                                         5.212000e+03      \n",
       "max                                         7.285000e+04      \n",
       "\n",
       "       Number; Estimate; FAMILIES - Families  \\\n",
       "count                           1.214473e+06   \n",
       "mean                            6.295577e+03   \n",
       "std                             3.181366e+03   \n",
       "min                             0.000000e+00   \n",
       "25%                             4.087000e+03   \n",
       "50%                             6.064000e+03   \n",
       "75%                             8.221000e+03   \n",
       "max                             2.778300e+04   \n",
       "\n",
       "       Number; Margin of Error; FAMILIES - Families  \\\n",
       "count                                  1.214473e+06   \n",
       "mean                                   2.568353e+02   \n",
       "std                                    9.373243e+01   \n",
       "min                                    6.000000e+00   \n",
       "25%                                    1.890000e+02   \n",
       "50%                                    2.490000e+02   \n",
       "75%                                    3.220000e+02   \n",
       "max                                    8.780000e+02   \n",
       "\n",
       "       Median income (dollars); Estimate; FAMILIES - Families  \\\n",
       "count                                       1.213914e+06        \n",
       "mean                                        8.479300e+04        \n",
       "std                                         3.258884e+04        \n",
       "min                                         9.081000e+03        \n",
       "25%                                         6.196200e+04        \n",
       "50%                                         8.057400e+04        \n",
       "75%                                         9.920600e+04        \n",
       "max                                         2.500000e+05        \n",
       "\n",
       "       Median income (dollars); Margin of Error; FAMILIES - Families  \\\n",
       "count                                       1.213886e+06               \n",
       "mean                                        5.922059e+03               \n",
       "std                                         3.494210e+03               \n",
       "min                                         1.269000e+03               \n",
       "25%                                         3.815000e+03               \n",
       "50%                                         5.208000e+03               \n",
       "75%                                         6.860000e+03               \n",
       "max                                         1.244510e+05               \n",
       "\n",
       "             zipstr  zip_median_income_log       anon_id  \n",
       "count  1.214473e+06           1.213914e+06  1.553524e+06  \n",
       "mean   4.854853e+04           4.895082e+00  9.696487e+04  \n",
       "std    6.961209e+03           1.756870e-01  5.428954e+04  \n",
       "min    6.930000e+02           3.958134e+00  0.000000e+00  \n",
       "25%    4.817600e+04           4.792125e+00  5.058500e+04  \n",
       "50%    4.838200e+04           4.906195e+00  9.835100e+04  \n",
       "75%    4.900700e+04           4.996538e+00  1.440540e+05  \n",
       "max    9.980100e+04           5.397940e+00  1.886840e+05  \n",
       "\n",
       "[8 rows x 35 columns]"
      ]
     },
     "execution_count": 4,
     "metadata": {},
     "output_type": "execute_result"
    }
   ],
   "source": [
    "student_data.describe()"
   ]
  },
  {
   "cell_type": "code",
   "execution_count": 5,
   "id": "c8989c33-1381-496b-a8d9-ba74971dbd74",
   "metadata": {},
   "outputs": [
    {
     "data": {
      "image/png": "[encoded data removed]",
      "text/plain": [
       "<Figure size 1440x1080 with 36 Axes>"
      ]
     },
     "metadata": {
      "needs_background": "light"
     },
     "output_type": "display_data"
    }
   ],
   "source": [
    "student_data.hist(bins=50, figsize=(20,15))\n",
    "plt.show()"
   ]
  },
  {
   "cell_type": "code",
   "execution_count": 6,
   "id": "ee776cc3",
   "metadata": {},
   "outputs": [
    {
     "name": "stdout",
     "output_type": "stream",
     "text": [
      "        first_course_year  semester_idx  female  white_asian  start_age  \\\n",
      "1                    17.0           1.0     1.0          1.0       18.0   \n",
      "94343                17.0           2.0     1.0          1.0       18.0   \n",
      "182870               17.0           3.0     1.0          1.0       18.0   \n",
      "241440               17.0           4.0     1.0          1.0       18.0   \n",
      "391695               17.0           6.0     1.0          1.0       18.0   \n",
      "455395               17.0           7.0     1.0          1.0       18.0   \n",
      "523387               17.0           8.0     1.0          1.0       18.0   \n",
      "584722               17.0           9.0     1.0          1.0       18.0   \n",
      "639935               17.0          10.0     1.0          1.0       18.0   \n",
      "\n",
      "        first_gen HS_Zip_Code  changed_major  n_majors  \\\n",
      "1             1.0       48867            0.0       2.0   \n",
      "94343         1.0       48867            0.0       3.0   \n",
      "182870        1.0       48867            0.0       3.0   \n",
      "241440        1.0       48867            0.0       2.0   \n",
      "391695        1.0       48867            0.0       2.0   \n",
      "455395        1.0       48867            0.0       3.0   \n",
      "523387        1.0       48867            0.0       3.0   \n",
      "584722        1.0       48867            0.0       3.0   \n",
      "639935        1.0       48867            0.0       3.0   \n",
      "\n",
      "        total_semester_credit_hours  ...    Geography  \\\n",
      "1                              14.0  ...  ZCTA5 48867   \n",
      "94343                          13.0  ...  ZCTA5 48867   \n",
      "182870                         15.0  ...  ZCTA5 48867   \n",
      "241440                         14.0  ...  ZCTA5 48867   \n",
      "391695                         14.0  ...  ZCTA5 48867   \n",
      "455395                         14.0  ...  ZCTA5 48867   \n",
      "523387                          8.0  ...  ZCTA5 48867   \n",
      "584722                         12.0  ...  ZCTA5 48867   \n",
      "639935                         13.0  ...  ZCTA5 48867   \n",
      "\n",
      "        Median income (dollars); Estimate; Households  \\\n",
      "1                                             43388.0   \n",
      "94343                                         43388.0   \n",
      "182870                                        43388.0   \n",
      "241440                                        43388.0   \n",
      "391695                                        43388.0   \n",
      "455395                                        43388.0   \n",
      "523387                                        43388.0   \n",
      "584722                                        43388.0   \n",
      "639935                                        43388.0   \n",
      "\n",
      "        Median income (dollars); Margin of Error; Households  \\\n",
      "1                                                  2198.0      \n",
      "94343                                              2198.0      \n",
      "182870                                             2198.0      \n",
      "241440                                             2198.0      \n",
      "391695                                             2198.0      \n",
      "455395                                             2198.0      \n",
      "523387                                             2198.0      \n",
      "584722                                             2198.0      \n",
      "639935                                             2198.0      \n",
      "\n",
      "        Number; Estimate; FAMILIES - Families  \\\n",
      "1                                      7417.0   \n",
      "94343                                  7417.0   \n",
      "182870                                 7417.0   \n",
      "241440                                 7417.0   \n",
      "391695                                 7417.0   \n",
      "455395                                 7417.0   \n",
      "523387                                 7417.0   \n",
      "584722                                 7417.0   \n",
      "639935                                 7417.0   \n",
      "\n",
      "        Number; Margin of Error; FAMILIES - Families  \\\n",
      "1                                              211.0   \n",
      "94343                                          211.0   \n",
      "182870                                         211.0   \n",
      "241440                                         211.0   \n",
      "391695                                         211.0   \n",
      "455395                                         211.0   \n",
      "523387                                         211.0   \n",
      "584722                                         211.0   \n",
      "639935                                         211.0   \n",
      "\n",
      "        Median income (dollars); Estimate; FAMILIES - Families  \\\n",
      "1                                                 56442.0        \n",
      "94343                                             56442.0        \n",
      "182870                                            56442.0        \n",
      "241440                                            56442.0        \n",
      "391695                                            56442.0        \n",
      "455395                                            56442.0        \n",
      "523387                                            56442.0        \n",
      "584722                                            56442.0        \n",
      "639935                                            56442.0        \n",
      "\n",
      "        Median income (dollars); Margin of Error; FAMILIES - Families  \\\n",
      "1                                                  4490.0               \n",
      "94343                                              4490.0               \n",
      "182870                                             4490.0               \n",
      "241440                                             4490.0               \n",
      "391695                                             4490.0               \n",
      "455395                                             4490.0               \n",
      "523387                                             4490.0               \n",
      "584722                                             4490.0               \n",
      "639935                                             4490.0               \n",
      "\n",
      "         zipstr  zip_median_income_log  anon_id  \n",
      "1       48867.0               4.751602   160343  \n",
      "94343   48867.0               4.751602   160343  \n",
      "182870  48867.0               4.751602   160343  \n",
      "241440  48867.0               4.751602   160343  \n",
      "391695  48867.0               4.751602   160343  \n",
      "455395  48867.0               4.751602   160343  \n",
      "523387  48867.0               4.751602   160343  \n",
      "584722  48867.0               4.751602   160343  \n",
      "639935  48867.0               4.751602   160343  \n",
      "\n",
      "[9 rows x 38 columns]\n"
     ]
    }
   ],
   "source": [
    "# print every instance in the data for student 160343\n",
    "\n",
    "student_160343 = student_data.loc[student_data['anon_id'] == 160343]\n",
    "print(student_160343)"
   ]
  },
  {
   "cell_type": "code",
   "execution_count": 7,
   "id": "635c286b",
   "metadata": {},
   "outputs": [
    {
     "data": {
      "text/plain": [
       "Text(0, 0.5, 'Major GPA')"
      ]
     },
     "execution_count": 7,
     "metadata": {},
     "output_type": "execute_result"
    },
    {
     "data": {
      "image/png": "[encoded data removed]",
      "text/plain": [
       "<Figure size 432x288 with 1 Axes>"
      ]
     },
     "metadata": {
      "needs_background": "light"
     },
     "output_type": "display_data"
    }
   ],
   "source": [
    "# take some of student 160343's data and plot it to show that we can access and work with the data\n",
    "\n",
    "student_gpa = student_160343['major_gpa'].to_numpy()\n",
    "sem_idx = student_160343['semester_idx'].to_numpy()\n",
    "\n",
    "import matplotlib.pyplot as plt\n",
    "\n",
    "plt.plot(sem_idx, student_gpa, 'go--', linewidth=2, markersize=12)\n",
    "plt.title('Major GPA of Student 160343')\n",
    "plt.xlabel('Semester')\n",
    "plt.ylabel('Major GPA')"
   ]
  },
  {
   "cell_type": "code",
   "execution_count": 8,
   "id": "8de8f83c",
   "metadata": {},
   "outputs": [],
   "source": [
    "# split dataset into training and testing sets (80-20 split), set aside test set\n",
    "\n",
    "#from sklearn.model_selection import train_test_split\n",
    "\n",
    "#y = student_data[\"changed_major\"]\n",
    "#X = student_data.drop(columns=[\"changed_major\"])\n",
    "\n",
    "#student_train_X, student_test_X, student_train_y, student_test_y = train_test_split(X, y, test_size=0.5, random_state=1)"
   ]
  },
  {
   "cell_type": "code",
   "execution_count": 9,
   "id": "443f28f5-0910-439f-8846-8b3e7636e63e",
   "metadata": {},
   "outputs": [],
   "source": [
    "#student_test_y"
   ]
  },
  {
   "cell_type": "code",
   "execution_count": 10,
   "id": "cb75e0d2-4587-409e-954d-c7c3c0bd810d",
   "metadata": {},
   "outputs": [],
   "source": [
    "#student_train_y = pd.DataFrame(student_train_y, columns=[\"changed_major\"])\n",
    "#student_test_y = pd.DataFrame(student_test_y, columns=[\"changed_major\"])"
   ]
  },
  {
   "cell_type": "code",
   "execution_count": 11,
   "id": "e629dcc0-3080-44a6-bf75-3186cd7dc75a",
   "metadata": {},
   "outputs": [],
   "source": [
    "#student_train_y"
   ]
  },
  {
   "cell_type": "code",
   "execution_count": 12,
   "id": "6dbfb0ce-fc70-444b-a1ba-374baddec569",
   "metadata": {},
   "outputs": [],
   "source": [
    "#student_train = pd.concat([student_train_X, student_train_y], axis=1)\n",
    "#student_test = pd.concat([student_test_X, student_test_y], axis=1)"
   ]
  },
  {
   "cell_type": "code",
   "execution_count": 13,
   "id": "b2ca3768-b22c-433a-b5ab-be2a3933caa6",
   "metadata": {},
   "outputs": [],
   "source": [
    "#student_train.head()"
   ]
  },
  {
   "cell_type": "code",
   "execution_count": 14,
   "id": "6a97639d-019f-4993-9314-885a31552ef3",
   "metadata": {},
   "outputs": [],
   "source": [
    "# split dataset into training and testing sets, set aside test set\n",
    "student_train = student_data.loc[student_data['train'] == 1]\n",
    "student_test = student_data.loc[student_data['train'] == 0]"
   ]
  },
  {
   "cell_type": "markdown",
   "id": "831ea598-ed09-4e0c-b8f6-a398ccdf9f53",
   "metadata": {},
   "source": [
    "## Exploratory Data Analysis\n",
    "\n",
    "##### Overview:\n",
    "- study various aspects of the features: meaning, data types, missing values, importance for the task, categorical or continuous\n",
    "- generate histograms for each feature to visualize distribution\n",
    "- generate Pearson correlation coefficients between the target feature `changed_major` and each other feature\n",
    "- generate and plot kernel density estimator (KDE) functions\n",
    "- for some of the binary features, generate contingency tables and corresponding tetrachoric correlation coefficients or chi-square scores to compare with `changed_major`\n",
    "- calculated point biserial correlation coefficients to compare some of the continuous features with `changed_major`"
   ]
  },
  {
   "cell_type": "code",
   "execution_count": 15,
   "id": "3e9d755e",
   "metadata": {
    "scrolled": true
   },
   "outputs": [
    {
     "data": {
      "image/png": "[encoded data removed]",
      "text/plain": [
       "<Figure size 1440x1080 with 36 Axes>"
      ]
     },
     "metadata": {
      "needs_background": "light"
     },
     "output_type": "display_data"
    }
   ],
   "source": [
    "# generate histograms for each feature\n",
    "\n",
    "student_train.hist(bins=50, figsize=(20,15))\n",
    "plt.show()"
   ]
  },
  {
   "cell_type": "code",
   "execution_count": 16,
   "id": "4a47caeb",
   "metadata": {},
   "outputs": [
    {
     "data": {
      "text/plain": [
       "changed_major                                                    1.000000\n",
       "nonmajor_credits                                                 0.107008\n",
       "enrolled_in_previous_semester                                    0.085090\n",
       "nonmajor_gpa                                                     0.063725\n",
       "total_semester_credit_hours                                      0.054287\n",
       "graduated_semester_idx                                           0.051926\n",
       "fraction_above_or_below_fulltime_credithours                     0.029327\n",
       "Number; Margin of Error; FAMILIES - Families                     0.002640\n",
       "Number; Estimate; FAMILIES - Families                            0.001653\n",
       "white_asian                                                      0.000326\n",
       "zipstr                                                           0.000046\n",
       "Id2                                                              0.000046\n",
       "Median income (dollars); Estimate; Households                   -0.000087\n",
       "Median income (dollars); Estimate; FAMILIES - Families          -0.000511\n",
       "female                                                          -0.000850\n",
       "zip_median_income_log                                           -0.001362\n",
       "Median income (dollars); Margin of Error; FAMILIES - Families   -0.001596\n",
       "Median income (dollars); Margin of Error; Households            -0.003042\n",
       "first_gen                                                       -0.003211\n",
       "math_placement_score                                            -0.004321\n",
       "AP_credit_hours                                                 -0.004984\n",
       "graduated                                                       -0.005810\n",
       "anon_id                                                         -0.010673\n",
       "hs_gpa                                                          -0.012301\n",
       "first_course_year                                               -0.013367\n",
       "n_majors                                                        -0.018947\n",
       "avg_grade                                                       -0.031476\n",
       "start_age                                                       -0.042104\n",
       "cumulative_avg_grade                                            -0.055869\n",
       "cumulative_credit_hours                                         -0.072735\n",
       "semester_idx                                                    -0.072797\n",
       "graduates_next_semester                                         -0.083499\n",
       "major_credits                                                   -0.089181\n",
       "major_gpa                                                       -0.092976\n",
       "train                                                                 NaN\n",
       "Name: changed_major, dtype: float64"
      ]
     },
     "execution_count": 16,
     "metadata": {},
     "output_type": "execute_result"
    }
   ],
   "source": [
    "corr_matrix = student_train.corr()\n",
    "corr_matrix[\"changed_major\"].sort_values(ascending=False)"
   ]
  },
  {
   "cell_type": "markdown",
   "id": "dfad1340-3d63-4ec5-88a0-45f265eec2b4",
   "metadata": {},
   "source": [
    "#### Features that are missing values:\n",
    "`start_age` (2 `nan` values), `graduated_semester_idx`, `enrolled_in_previous_semester`, `hs_gpa`, `math_placement_score`, `Median income (dollars); Estimate; Households`, \n",
    "`Median income (dollars); Estimate; FAMILIES - Families`"
   ]
  },
  {
   "cell_type": "markdown",
   "id": "dd25c33a-57f2-4b1e-af34-c6af31d7884b",
   "metadata": {},
   "source": [
    "#### Binary categorical features:\n",
    "`female`, `white_asian`, `first_gen`, `changed_major`, `graduates_next_semester`, `graduated`, `enrolled_in_previous_semester`\n",
    "\n",
    "#### Multi-categorical features:\n",
    "`semester_idx`, `start_age`, `n_majors`, `graduated_semester_idx`, \n",
    "\n",
    "#### Continuous features:\n",
    "`major_gpa`, `nonmajor_gpa`, `avg_grade`, `cumulative_avg_grade`, `fraction_above_or_below_fulltime_credithours`, `hs_gpa`, `math_placement_score`, `Median income (dollars); Estimate; Households`?, `cumulative_credit_hours`?\n",
    "\n",
    "#### Interesting features to explore:\n",
    "`semester_idx`, `start_age`, `female`, `major_gpa`, `nonmajor_gpa`, `avg_grade`, `major_credits`, `nonmajor_credits`, `enrolled_in_previous_semester`, `graduates_next_semester`"
   ]
  },
  {
   "cell_type": "code",
   "execution_count": 17,
   "id": "effcd8a0",
   "metadata": {},
   "outputs": [
    {
     "data": {
      "text/html": [
       "<div>\n",
       "<style scoped>\n",
       "    .dataframe tbody tr th:only-of-type {\n",
       "        vertical-align: middle;\n",
       "    }\n",
       "\n",
       "    .dataframe tbody tr th {\n",
       "        vertical-align: top;\n",
       "    }\n",
       "\n",
       "    .dataframe thead th {\n",
       "        text-align: right;\n",
       "    }\n",
       "</style>\n",
       "<table border=\"1\" class=\"dataframe\">\n",
       "  <thead>\n",
       "    <tr style=\"text-align: right;\">\n",
       "      <th></th>\n",
       "      <th>female</th>\n",
       "      <th>white_asian</th>\n",
       "      <th>first_gen</th>\n",
       "      <th>changed_major</th>\n",
       "    </tr>\n",
       "  </thead>\n",
       "  <tbody>\n",
       "    <tr>\n",
       "      <th>0</th>\n",
       "      <td>1.0</td>\n",
       "      <td>1.0</td>\n",
       "      <td>0.0</td>\n",
       "      <td>0.0</td>\n",
       "    </tr>\n",
       "    <tr>\n",
       "      <th>1</th>\n",
       "      <td>1.0</td>\n",
       "      <td>1.0</td>\n",
       "      <td>1.0</td>\n",
       "      <td>0.0</td>\n",
       "    </tr>\n",
       "    <tr>\n",
       "      <th>2</th>\n",
       "      <td>0.0</td>\n",
       "      <td>1.0</td>\n",
       "      <td>0.0</td>\n",
       "      <td>0.0</td>\n",
       "    </tr>\n",
       "    <tr>\n",
       "      <th>3</th>\n",
       "      <td>0.0</td>\n",
       "      <td>1.0</td>\n",
       "      <td>0.0</td>\n",
       "      <td>0.0</td>\n",
       "    </tr>\n",
       "    <tr>\n",
       "      <th>4</th>\n",
       "      <td>0.0</td>\n",
       "      <td>1.0</td>\n",
       "      <td>0.0</td>\n",
       "      <td>0.0</td>\n",
       "    </tr>\n",
       "    <tr>\n",
       "      <th>...</th>\n",
       "      <td>...</td>\n",
       "      <td>...</td>\n",
       "      <td>...</td>\n",
       "      <td>...</td>\n",
       "    </tr>\n",
       "    <tr>\n",
       "      <th>776352</th>\n",
       "      <td>0.0</td>\n",
       "      <td>1.0</td>\n",
       "      <td>0.0</td>\n",
       "      <td>0.0</td>\n",
       "    </tr>\n",
       "    <tr>\n",
       "      <th>776353</th>\n",
       "      <td>0.0</td>\n",
       "      <td>1.0</td>\n",
       "      <td>0.0</td>\n",
       "      <td>0.0</td>\n",
       "    </tr>\n",
       "    <tr>\n",
       "      <th>776354</th>\n",
       "      <td>0.0</td>\n",
       "      <td>1.0</td>\n",
       "      <td>0.0</td>\n",
       "      <td>0.0</td>\n",
       "    </tr>\n",
       "    <tr>\n",
       "      <th>776355</th>\n",
       "      <td>0.0</td>\n",
       "      <td>1.0</td>\n",
       "      <td>0.0</td>\n",
       "      <td>0.0</td>\n",
       "    </tr>\n",
       "    <tr>\n",
       "      <th>776356</th>\n",
       "      <td>1.0</td>\n",
       "      <td>1.0</td>\n",
       "      <td>1.0</td>\n",
       "      <td>0.0</td>\n",
       "    </tr>\n",
       "  </tbody>\n",
       "</table>\n",
       "<p>776357 rows × 4 columns</p>\n",
       "</div>"
      ],
      "text/plain": [
       "        female  white_asian  first_gen  changed_major\n",
       "0          1.0          1.0        0.0            0.0\n",
       "1          1.0          1.0        1.0            0.0\n",
       "2          0.0          1.0        0.0            0.0\n",
       "3          0.0          1.0        0.0            0.0\n",
       "4          0.0          1.0        0.0            0.0\n",
       "...        ...          ...        ...            ...\n",
       "776352     0.0          1.0        0.0            0.0\n",
       "776353     0.0          1.0        0.0            0.0\n",
       "776354     0.0          1.0        0.0            0.0\n",
       "776355     0.0          1.0        0.0            0.0\n",
       "776356     1.0          1.0        1.0            0.0\n",
       "\n",
       "[776357 rows x 4 columns]"
      ]
     },
     "execution_count": 17,
     "metadata": {},
     "output_type": "execute_result"
    }
   ],
   "source": [
    "# create a dataframe with some of the binary features\n",
    "\n",
    "student_train_binary = student_train[['female', 'white_asian', 'first_gen', 'changed_major']]\n",
    "student_train_binary"
   ]
  },
  {
   "cell_type": "code",
   "execution_count": 18,
   "id": "4d9c2f65",
   "metadata": {},
   "outputs": [],
   "source": [
    "import seaborn as sns\n",
    "\n",
    "# create a dataframe with some of the multi-categorical features, use seaborn to visualize the correlations between them\n",
    "\n",
    "student_train_multi = student_train[['start_age', 'semester_idx', 'changed_major']]"
   ]
  },
  {
   "cell_type": "code",
   "execution_count": 19,
   "id": "75a67eb1",
   "metadata": {},
   "outputs": [
    {
     "data": {
      "text/plain": [
       "<seaborn.axisgrid.PairGrid at 0x2220137cbe0>"
      ]
     },
     "execution_count": 19,
     "metadata": {},
     "output_type": "execute_result"
    },
    {
     "data": {
      "image/png": "[encoded data removed]",
      "text/plain": [
       "<Figure size 540x540 with 12 Axes>"
      ]
     },
     "metadata": {
      "needs_background": "light"
     },
     "output_type": "display_data"
    }
   ],
   "source": [
    "sns.pairplot(student_train_multi, kind=\"hist\")"
   ]
  },
  {
   "cell_type": "code",
   "execution_count": 20,
   "id": "44fb4d69",
   "metadata": {},
   "outputs": [
    {
     "data": {
      "text/plain": [
       "18.0    407464\n",
       "19.0    171309\n",
       "20.0     46127\n",
       "21.0     25773\n",
       "22.0     11293\n",
       "23.0      6799\n",
       "17.0      5467\n",
       "24.0      4476\n",
       "25.0      3590\n",
       "26.0      2720\n",
       "27.0      2046\n",
       "28.0      1364\n",
       "29.0      1094\n",
       "30.0       862\n",
       "31.0       745\n",
       "32.0       557\n",
       "33.0       510\n",
       "35.0       413\n",
       "16.0       412\n",
       "34.0       402\n",
       "37.0       385\n",
       "39.0       358\n",
       "36.0       323\n",
       "43.0       273\n",
       "41.0       264\n",
       "38.0       257\n",
       "40.0       253\n",
       "42.0       217\n",
       "45.0       177\n",
       "47.0       124\n",
       "44.0       101\n",
       "48.0       100\n",
       "49.0        88\n",
       "46.0        86\n",
       "15.0        83\n",
       "50.0        62\n",
       "52.0        57\n",
       "55.0        42\n",
       "51.0        22\n",
       "14.0        21\n",
       "53.0        21\n",
       "54.0        20\n",
       "56.0        18\n",
       "59.0        15\n",
       "73.0         9\n",
       "57.0         7\n",
       "58.0         4\n",
       "66.0         4\n",
       "63.0         3\n",
       "NaN          2\n",
       "61.0         1\n",
       "Name: start_age, dtype: int64"
      ]
     },
     "execution_count": 20,
     "metadata": {},
     "output_type": "execute_result"
    }
   ],
   "source": [
    "# prepare to plot a kernel density estimator function to visualize the relationship between start_age and\n",
    "# changed_major=0\n",
    "\n",
    "no_maj_change_ages = student_train_multi.loc[student_train_multi['changed_major'] == 0]['start_age']\n",
    "no_maj_change_ages.value_counts(dropna=False)"
   ]
  },
  {
   "cell_type": "code",
   "execution_count": 21,
   "id": "f1328b70-f5b6-4c01-965a-9abeb35e5182",
   "metadata": {},
   "outputs": [
    {
     "data": {
      "text/html": [
       "<div>\n",
       "<style scoped>\n",
       "    .dataframe tbody tr th:only-of-type {\n",
       "        vertical-align: middle;\n",
       "    }\n",
       "\n",
       "    .dataframe tbody tr th {\n",
       "        vertical-align: top;\n",
       "    }\n",
       "\n",
       "    .dataframe thead th {\n",
       "        text-align: right;\n",
       "    }\n",
       "</style>\n",
       "<table border=\"1\" class=\"dataframe\">\n",
       "  <thead>\n",
       "    <tr style=\"text-align: right;\">\n",
       "      <th></th>\n",
       "      <th>start_age</th>\n",
       "      <th>count</th>\n",
       "    </tr>\n",
       "  </thead>\n",
       "  <tbody>\n",
       "    <tr>\n",
       "      <th>0</th>\n",
       "      <td>18.0</td>\n",
       "      <td>407464</td>\n",
       "    </tr>\n",
       "    <tr>\n",
       "      <th>1</th>\n",
       "      <td>19.0</td>\n",
       "      <td>171309</td>\n",
       "    </tr>\n",
       "    <tr>\n",
       "      <th>2</th>\n",
       "      <td>20.0</td>\n",
       "      <td>46127</td>\n",
       "    </tr>\n",
       "    <tr>\n",
       "      <th>3</th>\n",
       "      <td>21.0</td>\n",
       "      <td>25773</td>\n",
       "    </tr>\n",
       "    <tr>\n",
       "      <th>4</th>\n",
       "      <td>22.0</td>\n",
       "      <td>11293</td>\n",
       "    </tr>\n",
       "    <tr>\n",
       "      <th>5</th>\n",
       "      <td>23.0</td>\n",
       "      <td>6799</td>\n",
       "    </tr>\n",
       "    <tr>\n",
       "      <th>6</th>\n",
       "      <td>17.0</td>\n",
       "      <td>5467</td>\n",
       "    </tr>\n",
       "    <tr>\n",
       "      <th>7</th>\n",
       "      <td>24.0</td>\n",
       "      <td>4476</td>\n",
       "    </tr>\n",
       "    <tr>\n",
       "      <th>8</th>\n",
       "      <td>25.0</td>\n",
       "      <td>3590</td>\n",
       "    </tr>\n",
       "    <tr>\n",
       "      <th>9</th>\n",
       "      <td>26.0</td>\n",
       "      <td>2720</td>\n",
       "    </tr>\n",
       "    <tr>\n",
       "      <th>10</th>\n",
       "      <td>27.0</td>\n",
       "      <td>2046</td>\n",
       "    </tr>\n",
       "    <tr>\n",
       "      <th>11</th>\n",
       "      <td>28.0</td>\n",
       "      <td>1364</td>\n",
       "    </tr>\n",
       "    <tr>\n",
       "      <th>12</th>\n",
       "      <td>29.0</td>\n",
       "      <td>1094</td>\n",
       "    </tr>\n",
       "    <tr>\n",
       "      <th>13</th>\n",
       "      <td>30.0</td>\n",
       "      <td>862</td>\n",
       "    </tr>\n",
       "    <tr>\n",
       "      <th>14</th>\n",
       "      <td>31.0</td>\n",
       "      <td>745</td>\n",
       "    </tr>\n",
       "    <tr>\n",
       "      <th>15</th>\n",
       "      <td>32.0</td>\n",
       "      <td>557</td>\n",
       "    </tr>\n",
       "    <tr>\n",
       "      <th>16</th>\n",
       "      <td>33.0</td>\n",
       "      <td>510</td>\n",
       "    </tr>\n",
       "    <tr>\n",
       "      <th>17</th>\n",
       "      <td>35.0</td>\n",
       "      <td>413</td>\n",
       "    </tr>\n",
       "    <tr>\n",
       "      <th>18</th>\n",
       "      <td>16.0</td>\n",
       "      <td>412</td>\n",
       "    </tr>\n",
       "    <tr>\n",
       "      <th>19</th>\n",
       "      <td>34.0</td>\n",
       "      <td>402</td>\n",
       "    </tr>\n",
       "    <tr>\n",
       "      <th>20</th>\n",
       "      <td>37.0</td>\n",
       "      <td>385</td>\n",
       "    </tr>\n",
       "    <tr>\n",
       "      <th>21</th>\n",
       "      <td>39.0</td>\n",
       "      <td>358</td>\n",
       "    </tr>\n",
       "    <tr>\n",
       "      <th>22</th>\n",
       "      <td>36.0</td>\n",
       "      <td>323</td>\n",
       "    </tr>\n",
       "    <tr>\n",
       "      <th>23</th>\n",
       "      <td>43.0</td>\n",
       "      <td>273</td>\n",
       "    </tr>\n",
       "    <tr>\n",
       "      <th>24</th>\n",
       "      <td>41.0</td>\n",
       "      <td>264</td>\n",
       "    </tr>\n",
       "    <tr>\n",
       "      <th>25</th>\n",
       "      <td>38.0</td>\n",
       "      <td>257</td>\n",
       "    </tr>\n",
       "    <tr>\n",
       "      <th>26</th>\n",
       "      <td>40.0</td>\n",
       "      <td>253</td>\n",
       "    </tr>\n",
       "    <tr>\n",
       "      <th>27</th>\n",
       "      <td>42.0</td>\n",
       "      <td>217</td>\n",
       "    </tr>\n",
       "    <tr>\n",
       "      <th>28</th>\n",
       "      <td>45.0</td>\n",
       "      <td>177</td>\n",
       "    </tr>\n",
       "    <tr>\n",
       "      <th>29</th>\n",
       "      <td>47.0</td>\n",
       "      <td>124</td>\n",
       "    </tr>\n",
       "    <tr>\n",
       "      <th>30</th>\n",
       "      <td>44.0</td>\n",
       "      <td>101</td>\n",
       "    </tr>\n",
       "    <tr>\n",
       "      <th>31</th>\n",
       "      <td>48.0</td>\n",
       "      <td>100</td>\n",
       "    </tr>\n",
       "    <tr>\n",
       "      <th>32</th>\n",
       "      <td>49.0</td>\n",
       "      <td>88</td>\n",
       "    </tr>\n",
       "    <tr>\n",
       "      <th>33</th>\n",
       "      <td>46.0</td>\n",
       "      <td>86</td>\n",
       "    </tr>\n",
       "    <tr>\n",
       "      <th>34</th>\n",
       "      <td>15.0</td>\n",
       "      <td>83</td>\n",
       "    </tr>\n",
       "    <tr>\n",
       "      <th>35</th>\n",
       "      <td>50.0</td>\n",
       "      <td>62</td>\n",
       "    </tr>\n",
       "    <tr>\n",
       "      <th>36</th>\n",
       "      <td>52.0</td>\n",
       "      <td>57</td>\n",
       "    </tr>\n",
       "    <tr>\n",
       "      <th>37</th>\n",
       "      <td>55.0</td>\n",
       "      <td>42</td>\n",
       "    </tr>\n",
       "    <tr>\n",
       "      <th>38</th>\n",
       "      <td>51.0</td>\n",
       "      <td>22</td>\n",
       "    </tr>\n",
       "    <tr>\n",
       "      <th>39</th>\n",
       "      <td>14.0</td>\n",
       "      <td>21</td>\n",
       "    </tr>\n",
       "    <tr>\n",
       "      <th>40</th>\n",
       "      <td>53.0</td>\n",
       "      <td>21</td>\n",
       "    </tr>\n",
       "    <tr>\n",
       "      <th>41</th>\n",
       "      <td>54.0</td>\n",
       "      <td>20</td>\n",
       "    </tr>\n",
       "    <tr>\n",
       "      <th>42</th>\n",
       "      <td>56.0</td>\n",
       "      <td>18</td>\n",
       "    </tr>\n",
       "    <tr>\n",
       "      <th>43</th>\n",
       "      <td>59.0</td>\n",
       "      <td>15</td>\n",
       "    </tr>\n",
       "    <tr>\n",
       "      <th>44</th>\n",
       "      <td>73.0</td>\n",
       "      <td>9</td>\n",
       "    </tr>\n",
       "    <tr>\n",
       "      <th>45</th>\n",
       "      <td>57.0</td>\n",
       "      <td>7</td>\n",
       "    </tr>\n",
       "    <tr>\n",
       "      <th>46</th>\n",
       "      <td>66.0</td>\n",
       "      <td>4</td>\n",
       "    </tr>\n",
       "    <tr>\n",
       "      <th>47</th>\n",
       "      <td>58.0</td>\n",
       "      <td>4</td>\n",
       "    </tr>\n",
       "    <tr>\n",
       "      <th>48</th>\n",
       "      <td>63.0</td>\n",
       "      <td>3</td>\n",
       "    </tr>\n",
       "    <tr>\n",
       "      <th>49</th>\n",
       "      <td>61.0</td>\n",
       "      <td>1</td>\n",
       "    </tr>\n",
       "  </tbody>\n",
       "</table>\n",
       "</div>"
      ],
      "text/plain": [
       "    start_age   count\n",
       "0        18.0  407464\n",
       "1        19.0  171309\n",
       "2        20.0   46127\n",
       "3        21.0   25773\n",
       "4        22.0   11293\n",
       "5        23.0    6799\n",
       "6        17.0    5467\n",
       "7        24.0    4476\n",
       "8        25.0    3590\n",
       "9        26.0    2720\n",
       "10       27.0    2046\n",
       "11       28.0    1364\n",
       "12       29.0    1094\n",
       "13       30.0     862\n",
       "14       31.0     745\n",
       "15       32.0     557\n",
       "16       33.0     510\n",
       "17       35.0     413\n",
       "18       16.0     412\n",
       "19       34.0     402\n",
       "20       37.0     385\n",
       "21       39.0     358\n",
       "22       36.0     323\n",
       "23       43.0     273\n",
       "24       41.0     264\n",
       "25       38.0     257\n",
       "26       40.0     253\n",
       "27       42.0     217\n",
       "28       45.0     177\n",
       "29       47.0     124\n",
       "30       44.0     101\n",
       "31       48.0     100\n",
       "32       49.0      88\n",
       "33       46.0      86\n",
       "34       15.0      83\n",
       "35       50.0      62\n",
       "36       52.0      57\n",
       "37       55.0      42\n",
       "38       51.0      22\n",
       "39       14.0      21\n",
       "40       53.0      21\n",
       "41       54.0      20\n",
       "42       56.0      18\n",
       "43       59.0      15\n",
       "44       73.0       9\n",
       "45       57.0       7\n",
       "46       66.0       4\n",
       "47       58.0       4\n",
       "48       63.0       3\n",
       "49       61.0       1"
      ]
     },
     "execution_count": 21,
     "metadata": {},
     "output_type": "execute_result"
    }
   ],
   "source": [
    "# drop nan values, sort by age\n",
    "no_maj_change_ages = no_maj_change_ages.dropna()\n",
    "# no_maj_change_ages = no_maj_change_ages.sort_values()\n",
    "\n",
    "age_counts = no_maj_change_ages.value_counts(dropna=False)\n",
    "age_counts = pd.DataFrame({'start_age':age_counts.index, 'count':age_counts.values})\n",
    "age_counts"
   ]
  },
  {
   "cell_type": "code",
   "execution_count": 22,
   "id": "e6dad61e-94b0-49ef-bb83-e2881bd4ea7e",
   "metadata": {},
   "outputs": [
    {
     "data": {
      "text/html": [
       "<div>\n",
       "<style scoped>\n",
       "    .dataframe tbody tr th:only-of-type {\n",
       "        vertical-align: middle;\n",
       "    }\n",
       "\n",
       "    .dataframe tbody tr th {\n",
       "        vertical-align: top;\n",
       "    }\n",
       "\n",
       "    .dataframe thead th {\n",
       "        text-align: right;\n",
       "    }\n",
       "</style>\n",
       "<table border=\"1\" class=\"dataframe\">\n",
       "  <thead>\n",
       "    <tr style=\"text-align: right;\">\n",
       "      <th></th>\n",
       "      <th>start_age</th>\n",
       "      <th>count</th>\n",
       "    </tr>\n",
       "  </thead>\n",
       "  <tbody>\n",
       "    <tr>\n",
       "      <th>39</th>\n",
       "      <td>14.0</td>\n",
       "      <td>21</td>\n",
       "    </tr>\n",
       "    <tr>\n",
       "      <th>34</th>\n",
       "      <td>15.0</td>\n",
       "      <td>83</td>\n",
       "    </tr>\n",
       "    <tr>\n",
       "      <th>18</th>\n",
       "      <td>16.0</td>\n",
       "      <td>412</td>\n",
       "    </tr>\n",
       "    <tr>\n",
       "      <th>6</th>\n",
       "      <td>17.0</td>\n",
       "      <td>5467</td>\n",
       "    </tr>\n",
       "    <tr>\n",
       "      <th>0</th>\n",
       "      <td>18.0</td>\n",
       "      <td>407464</td>\n",
       "    </tr>\n",
       "    <tr>\n",
       "      <th>1</th>\n",
       "      <td>19.0</td>\n",
       "      <td>171309</td>\n",
       "    </tr>\n",
       "    <tr>\n",
       "      <th>2</th>\n",
       "      <td>20.0</td>\n",
       "      <td>46127</td>\n",
       "    </tr>\n",
       "    <tr>\n",
       "      <th>3</th>\n",
       "      <td>21.0</td>\n",
       "      <td>25773</td>\n",
       "    </tr>\n",
       "    <tr>\n",
       "      <th>4</th>\n",
       "      <td>22.0</td>\n",
       "      <td>11293</td>\n",
       "    </tr>\n",
       "    <tr>\n",
       "      <th>5</th>\n",
       "      <td>23.0</td>\n",
       "      <td>6799</td>\n",
       "    </tr>\n",
       "    <tr>\n",
       "      <th>7</th>\n",
       "      <td>24.0</td>\n",
       "      <td>4476</td>\n",
       "    </tr>\n",
       "    <tr>\n",
       "      <th>8</th>\n",
       "      <td>25.0</td>\n",
       "      <td>3590</td>\n",
       "    </tr>\n",
       "    <tr>\n",
       "      <th>9</th>\n",
       "      <td>26.0</td>\n",
       "      <td>2720</td>\n",
       "    </tr>\n",
       "    <tr>\n",
       "      <th>10</th>\n",
       "      <td>27.0</td>\n",
       "      <td>2046</td>\n",
       "    </tr>\n",
       "    <tr>\n",
       "      <th>11</th>\n",
       "      <td>28.0</td>\n",
       "      <td>1364</td>\n",
       "    </tr>\n",
       "    <tr>\n",
       "      <th>12</th>\n",
       "      <td>29.0</td>\n",
       "      <td>1094</td>\n",
       "    </tr>\n",
       "    <tr>\n",
       "      <th>13</th>\n",
       "      <td>30.0</td>\n",
       "      <td>862</td>\n",
       "    </tr>\n",
       "    <tr>\n",
       "      <th>14</th>\n",
       "      <td>31.0</td>\n",
       "      <td>745</td>\n",
       "    </tr>\n",
       "    <tr>\n",
       "      <th>15</th>\n",
       "      <td>32.0</td>\n",
       "      <td>557</td>\n",
       "    </tr>\n",
       "    <tr>\n",
       "      <th>16</th>\n",
       "      <td>33.0</td>\n",
       "      <td>510</td>\n",
       "    </tr>\n",
       "    <tr>\n",
       "      <th>19</th>\n",
       "      <td>34.0</td>\n",
       "      <td>402</td>\n",
       "    </tr>\n",
       "    <tr>\n",
       "      <th>17</th>\n",
       "      <td>35.0</td>\n",
       "      <td>413</td>\n",
       "    </tr>\n",
       "    <tr>\n",
       "      <th>22</th>\n",
       "      <td>36.0</td>\n",
       "      <td>323</td>\n",
       "    </tr>\n",
       "    <tr>\n",
       "      <th>20</th>\n",
       "      <td>37.0</td>\n",
       "      <td>385</td>\n",
       "    </tr>\n",
       "    <tr>\n",
       "      <th>25</th>\n",
       "      <td>38.0</td>\n",
       "      <td>257</td>\n",
       "    </tr>\n",
       "    <tr>\n",
       "      <th>21</th>\n",
       "      <td>39.0</td>\n",
       "      <td>358</td>\n",
       "    </tr>\n",
       "    <tr>\n",
       "      <th>26</th>\n",
       "      <td>40.0</td>\n",
       "      <td>253</td>\n",
       "    </tr>\n",
       "    <tr>\n",
       "      <th>24</th>\n",
       "      <td>41.0</td>\n",
       "      <td>264</td>\n",
       "    </tr>\n",
       "    <tr>\n",
       "      <th>27</th>\n",
       "      <td>42.0</td>\n",
       "      <td>217</td>\n",
       "    </tr>\n",
       "    <tr>\n",
       "      <th>23</th>\n",
       "      <td>43.0</td>\n",
       "      <td>273</td>\n",
       "    </tr>\n",
       "    <tr>\n",
       "      <th>30</th>\n",
       "      <td>44.0</td>\n",
       "      <td>101</td>\n",
       "    </tr>\n",
       "    <tr>\n",
       "      <th>28</th>\n",
       "      <td>45.0</td>\n",
       "      <td>177</td>\n",
       "    </tr>\n",
       "    <tr>\n",
       "      <th>33</th>\n",
       "      <td>46.0</td>\n",
       "      <td>86</td>\n",
       "    </tr>\n",
       "    <tr>\n",
       "      <th>29</th>\n",
       "      <td>47.0</td>\n",
       "      <td>124</td>\n",
       "    </tr>\n",
       "    <tr>\n",
       "      <th>31</th>\n",
       "      <td>48.0</td>\n",
       "      <td>100</td>\n",
       "    </tr>\n",
       "    <tr>\n",
       "      <th>32</th>\n",
       "      <td>49.0</td>\n",
       "      <td>88</td>\n",
       "    </tr>\n",
       "    <tr>\n",
       "      <th>35</th>\n",
       "      <td>50.0</td>\n",
       "      <td>62</td>\n",
       "    </tr>\n",
       "    <tr>\n",
       "      <th>38</th>\n",
       "      <td>51.0</td>\n",
       "      <td>22</td>\n",
       "    </tr>\n",
       "    <tr>\n",
       "      <th>36</th>\n",
       "      <td>52.0</td>\n",
       "      <td>57</td>\n",
       "    </tr>\n",
       "    <tr>\n",
       "      <th>40</th>\n",
       "      <td>53.0</td>\n",
       "      <td>21</td>\n",
       "    </tr>\n",
       "    <tr>\n",
       "      <th>41</th>\n",
       "      <td>54.0</td>\n",
       "      <td>20</td>\n",
       "    </tr>\n",
       "    <tr>\n",
       "      <th>37</th>\n",
       "      <td>55.0</td>\n",
       "      <td>42</td>\n",
       "    </tr>\n",
       "    <tr>\n",
       "      <th>42</th>\n",
       "      <td>56.0</td>\n",
       "      <td>18</td>\n",
       "    </tr>\n",
       "    <tr>\n",
       "      <th>45</th>\n",
       "      <td>57.0</td>\n",
       "      <td>7</td>\n",
       "    </tr>\n",
       "    <tr>\n",
       "      <th>47</th>\n",
       "      <td>58.0</td>\n",
       "      <td>4</td>\n",
       "    </tr>\n",
       "    <tr>\n",
       "      <th>43</th>\n",
       "      <td>59.0</td>\n",
       "      <td>15</td>\n",
       "    </tr>\n",
       "    <tr>\n",
       "      <th>49</th>\n",
       "      <td>61.0</td>\n",
       "      <td>1</td>\n",
       "    </tr>\n",
       "    <tr>\n",
       "      <th>48</th>\n",
       "      <td>63.0</td>\n",
       "      <td>3</td>\n",
       "    </tr>\n",
       "    <tr>\n",
       "      <th>46</th>\n",
       "      <td>66.0</td>\n",
       "      <td>4</td>\n",
       "    </tr>\n",
       "    <tr>\n",
       "      <th>44</th>\n",
       "      <td>73.0</td>\n",
       "      <td>9</td>\n",
       "    </tr>\n",
       "  </tbody>\n",
       "</table>\n",
       "</div>"
      ],
      "text/plain": [
       "    start_age   count\n",
       "39       14.0      21\n",
       "34       15.0      83\n",
       "18       16.0     412\n",
       "6        17.0    5467\n",
       "0        18.0  407464\n",
       "1        19.0  171309\n",
       "2        20.0   46127\n",
       "3        21.0   25773\n",
       "4        22.0   11293\n",
       "5        23.0    6799\n",
       "7        24.0    4476\n",
       "8        25.0    3590\n",
       "9        26.0    2720\n",
       "10       27.0    2046\n",
       "11       28.0    1364\n",
       "12       29.0    1094\n",
       "13       30.0     862\n",
       "14       31.0     745\n",
       "15       32.0     557\n",
       "16       33.0     510\n",
       "19       34.0     402\n",
       "17       35.0     413\n",
       "22       36.0     323\n",
       "20       37.0     385\n",
       "25       38.0     257\n",
       "21       39.0     358\n",
       "26       40.0     253\n",
       "24       41.0     264\n",
       "27       42.0     217\n",
       "23       43.0     273\n",
       "30       44.0     101\n",
       "28       45.0     177\n",
       "33       46.0      86\n",
       "29       47.0     124\n",
       "31       48.0     100\n",
       "32       49.0      88\n",
       "35       50.0      62\n",
       "38       51.0      22\n",
       "36       52.0      57\n",
       "40       53.0      21\n",
       "41       54.0      20\n",
       "37       55.0      42\n",
       "42       56.0      18\n",
       "45       57.0       7\n",
       "47       58.0       4\n",
       "43       59.0      15\n",
       "49       61.0       1\n",
       "48       63.0       3\n",
       "46       66.0       4\n",
       "44       73.0       9"
      ]
     },
     "execution_count": 22,
     "metadata": {},
     "output_type": "execute_result"
    }
   ],
   "source": [
    "age_counts = age_counts.sort_values(by='start_age')\n",
    "age_counts"
   ]
  },
  {
   "cell_type": "code",
   "execution_count": 23,
   "id": "e109c20c-3c77-42f9-a790-bcc86666718b",
   "metadata": {},
   "outputs": [
    {
     "name": "stdout",
     "output_type": "stream",
     "text": [
      "[14. 15. 16. 17. 18. 19. 20. 21. 22. 23. 24. 25. 26. 27. 28. 29. 30. 31.\n",
      " 32. 33. 34. 35. 36. 37. 38. 39. 40. 41. 42. 43. 44. 45. 46. 47. 48. 49.\n",
      " 50. 51. 52. 53. 54. 55. 56. 57. 58. 59. 61. 63. 66. 73.]\n"
     ]
    }
   ],
   "source": [
    "no_maj_change_age_data = np.unique(np.asarray(no_maj_change_ages))\n",
    "no_maj_change_age_data = no_maj_change_age_data[~np.isnan(no_maj_change_age_data)]\n",
    "print(no_maj_change_age_data)\n",
    "num_points = len(no_maj_change_age_data)"
   ]
  },
  {
   "cell_type": "code",
   "execution_count": 24,
   "id": "0de48227-1fbc-495f-a169-52f9acb984da",
   "metadata": {},
   "outputs": [
    {
     "data": {
      "text/plain": [
       "array([    21,     83,    412,   5467, 407464, 171309,  46127,  25773,\n",
       "        11293,   6799,   4476,   3590,   2720,   2046,   1364,   1094,\n",
       "          862,    745,    557,    510,    402,    413,    323,    385,\n",
       "          257,    358,    253,    264,    217,    273,    101,    177,\n",
       "           86,    124,    100,     88,     62,     22,     57,     21,\n",
       "           20,     42,     18,      7,      4,     15,      1,      3,\n",
       "            4,      9], dtype=int64)"
      ]
     },
     "execution_count": 24,
     "metadata": {},
     "output_type": "execute_result"
    }
   ],
   "source": [
    "gauss_weights = age_counts['count'].to_numpy()\n",
    "gauss_weights"
   ]
  },
  {
   "cell_type": "code",
   "execution_count": 25,
   "id": "d8003cde",
   "metadata": {},
   "outputs": [
    {
     "data": {
      "image/png": "[encoded data removed]",
      "text/plain": [
       "<Figure size 1440x288 with 1 Axes>"
      ]
     },
     "metadata": {
      "needs_background": "light"
     },
     "output_type": "display_data"
    }
   ],
   "source": [
    "# generate and plot the KDE of the start_age and changed_major=0 data\n",
    "\n",
    "L = 0.25\n",
    "x = np.linspace(0, 70, 1000)\n",
    "y = np.zeros(len(x))\n",
    "\n",
    "for i in range(num_points):\n",
    "    y += gauss_weights[i]*np.exp(-(x - no_maj_change_age_data[i])**2/L)/num_points\n",
    "\n",
    "plt.figure(figsize=(20,4))\n",
    "plt.plot(x,y)\n",
    "# plt.vlines(no_maj_change_age_data, 0, 1, alpha=0.2)\n",
    "plt.title(\"Kernel density estimation (KDE) of start_age and changed_major=0\")\n",
    "plt.show()"
   ]
  },
  {
   "cell_type": "code",
   "execution_count": 26,
   "id": "3d053ae7-a2e4-4da5-8861-7e888f69b1f4",
   "metadata": {},
   "outputs": [
    {
     "data": {
      "image/png": "[encoded data removed]",
      "text/plain": [
       "<Figure size 1440x288 with 1 Axes>"
      ]
     },
     "metadata": {
      "needs_background": "light"
     },
     "output_type": "display_data"
    }
   ],
   "source": [
    "# view the log of the KDE\n",
    "\n",
    "plt.figure(figsize=(20,4))\n",
    "plt.semilogy(x,y)\n",
    "# plt.vlines(no_maj_change_age_data, 0, 1, alpha=0.2)\n",
    "plt.title(\"Log of kernel density estimation (KDE) of start_age and changed_major=0\")\n",
    "plt.show()"
   ]
  },
  {
   "cell_type": "code",
   "execution_count": 27,
   "id": "abb755b2-b354-42f3-ab88-cbf3ac7e16fd",
   "metadata": {},
   "outputs": [
    {
     "data": {
      "text/plain": [
       "1.0     94342\n",
       "2.0     71385\n",
       "4.0     65141\n",
       "7.0     60848\n",
       "5.0     58041\n",
       "6.0     56596\n",
       "8.0     56429\n",
       "9.0     52666\n",
       "3.0     51009\n",
       "10.0    48686\n",
       "11.0    34513\n",
       "12.0    20127\n",
       "13.0    13195\n",
       "14.0     7524\n",
       "15.0     3963\n",
       "16.0     2355\n",
       "Name: semester_idx, dtype: int64"
      ]
     },
     "execution_count": 27,
     "metadata": {},
     "output_type": "execute_result"
    }
   ],
   "source": [
    "no_maj_change_sem = student_train_multi.loc[student_train_multi['changed_major'] == 0]['semester_idx']\n",
    "no_maj_change_sem.value_counts(dropna=False)"
   ]
  },
  {
   "cell_type": "code",
   "execution_count": 28,
   "id": "fd559dea-ecdd-4558-8e55-e37c6a1a2bd2",
   "metadata": {},
   "outputs": [
    {
     "data": {
      "text/html": [
       "<div>\n",
       "<style scoped>\n",
       "    .dataframe tbody tr th:only-of-type {\n",
       "        vertical-align: middle;\n",
       "    }\n",
       "\n",
       "    .dataframe tbody tr th {\n",
       "        vertical-align: top;\n",
       "    }\n",
       "\n",
       "    .dataframe thead th {\n",
       "        text-align: right;\n",
       "    }\n",
       "</style>\n",
       "<table border=\"1\" class=\"dataframe\">\n",
       "  <thead>\n",
       "    <tr style=\"text-align: right;\">\n",
       "      <th></th>\n",
       "      <th>semester_idx</th>\n",
       "      <th>count</th>\n",
       "    </tr>\n",
       "  </thead>\n",
       "  <tbody>\n",
       "    <tr>\n",
       "      <th>0</th>\n",
       "      <td>1.0</td>\n",
       "      <td>94342</td>\n",
       "    </tr>\n",
       "    <tr>\n",
       "      <th>1</th>\n",
       "      <td>2.0</td>\n",
       "      <td>71385</td>\n",
       "    </tr>\n",
       "    <tr>\n",
       "      <th>8</th>\n",
       "      <td>3.0</td>\n",
       "      <td>51009</td>\n",
       "    </tr>\n",
       "    <tr>\n",
       "      <th>2</th>\n",
       "      <td>4.0</td>\n",
       "      <td>65141</td>\n",
       "    </tr>\n",
       "    <tr>\n",
       "      <th>4</th>\n",
       "      <td>5.0</td>\n",
       "      <td>58041</td>\n",
       "    </tr>\n",
       "    <tr>\n",
       "      <th>5</th>\n",
       "      <td>6.0</td>\n",
       "      <td>56596</td>\n",
       "    </tr>\n",
       "    <tr>\n",
       "      <th>3</th>\n",
       "      <td>7.0</td>\n",
       "      <td>60848</td>\n",
       "    </tr>\n",
       "    <tr>\n",
       "      <th>6</th>\n",
       "      <td>8.0</td>\n",
       "      <td>56429</td>\n",
       "    </tr>\n",
       "    <tr>\n",
       "      <th>7</th>\n",
       "      <td>9.0</td>\n",
       "      <td>52666</td>\n",
       "    </tr>\n",
       "    <tr>\n",
       "      <th>9</th>\n",
       "      <td>10.0</td>\n",
       "      <td>48686</td>\n",
       "    </tr>\n",
       "    <tr>\n",
       "      <th>10</th>\n",
       "      <td>11.0</td>\n",
       "      <td>34513</td>\n",
       "    </tr>\n",
       "    <tr>\n",
       "      <th>11</th>\n",
       "      <td>12.0</td>\n",
       "      <td>20127</td>\n",
       "    </tr>\n",
       "    <tr>\n",
       "      <th>12</th>\n",
       "      <td>13.0</td>\n",
       "      <td>13195</td>\n",
       "    </tr>\n",
       "    <tr>\n",
       "      <th>13</th>\n",
       "      <td>14.0</td>\n",
       "      <td>7524</td>\n",
       "    </tr>\n",
       "    <tr>\n",
       "      <th>14</th>\n",
       "      <td>15.0</td>\n",
       "      <td>3963</td>\n",
       "    </tr>\n",
       "    <tr>\n",
       "      <th>15</th>\n",
       "      <td>16.0</td>\n",
       "      <td>2355</td>\n",
       "    </tr>\n",
       "  </tbody>\n",
       "</table>\n",
       "</div>"
      ],
      "text/plain": [
       "    semester_idx  count\n",
       "0            1.0  94342\n",
       "1            2.0  71385\n",
       "8            3.0  51009\n",
       "2            4.0  65141\n",
       "4            5.0  58041\n",
       "5            6.0  56596\n",
       "3            7.0  60848\n",
       "6            8.0  56429\n",
       "7            9.0  52666\n",
       "9           10.0  48686\n",
       "10          11.0  34513\n",
       "11          12.0  20127\n",
       "12          13.0  13195\n",
       "13          14.0   7524\n",
       "14          15.0   3963\n",
       "15          16.0   2355"
      ]
     },
     "execution_count": 28,
     "metadata": {},
     "output_type": "execute_result"
    }
   ],
   "source": [
    "sem_counts = no_maj_change_sem.value_counts(dropna=False)\n",
    "sem_counts = pd.DataFrame({'semester_idx':sem_counts.index, 'count':sem_counts.values})\n",
    "sem_counts = sem_counts.sort_values(by='semester_idx')\n",
    "sem_counts"
   ]
  },
  {
   "cell_type": "code",
   "execution_count": 29,
   "id": "40be929c-ba6d-487f-b3c8-e503a4aec1ad",
   "metadata": {},
   "outputs": [
    {
     "name": "stdout",
     "output_type": "stream",
     "text": [
      "[ 1.  2.  3.  4.  5.  6.  7.  8.  9. 10. 11. 12. 13. 14. 15. 16.]\n"
     ]
    }
   ],
   "source": [
    "no_maj_change_sem_data = np.asarray(sem_counts['semester_idx'])\n",
    "print(no_maj_change_sem_data)\n",
    "num_points2 = len(no_maj_change_sem_data)"
   ]
  },
  {
   "cell_type": "code",
   "execution_count": 30,
   "id": "e2949873-543e-4df8-b781-8646182ff685",
   "metadata": {},
   "outputs": [
    {
     "data": {
      "text/plain": [
       "array([94342, 71385, 51009, 65141, 58041, 56596, 60848, 56429, 52666,\n",
       "       48686, 34513, 20127, 13195,  7524,  3963,  2355], dtype=int64)"
      ]
     },
     "execution_count": 30,
     "metadata": {},
     "output_type": "execute_result"
    }
   ],
   "source": [
    "gauss_weights2 = np.asarray(sem_counts['count'])\n",
    "gauss_weights2"
   ]
  },
  {
   "cell_type": "code",
   "execution_count": 31,
   "id": "e064c112-cd1b-46aa-a600-81616511c324",
   "metadata": {},
   "outputs": [
    {
     "data": {
      "image/png": "[encoded data removed]",
      "text/plain": [
       "<Figure size 1440x288 with 1 Axes>"
      ]
     },
     "metadata": {
      "needs_background": "light"
     },
     "output_type": "display_data"
    }
   ],
   "source": [
    "# generate and plot the KDE of the semester_idx and changed_major=0 data\n",
    "\n",
    "L = 0.25\n",
    "x = np.linspace(0, 20, 1000)\n",
    "y = np.zeros(len(x))\n",
    "\n",
    "for i in range(num_points2):\n",
    "    y += gauss_weights2[i]*np.exp(-(x - no_maj_change_sem_data[i])**2/L)/num_points2\n",
    "\n",
    "plt.figure(figsize=(20,4))\n",
    "plt.plot(x,y)\n",
    "# plt.vlines(no_maj_change_age_data, 0, 1, alpha=0.2)\n",
    "plt.title(\"Kernel density estimation (KDE) of semester_idx and changed_major=0\")\n",
    "plt.show()"
   ]
  },
  {
   "cell_type": "code",
   "execution_count": 32,
   "id": "851d1875-7dc9-4070-bb4b-f8d6b38997cb",
   "metadata": {},
   "outputs": [
    {
     "data": {
      "text/plain": [
       "2.0     17143\n",
       "4.0     15218\n",
       "5.0     11855\n",
       "3.0      7560\n",
       "7.0      7144\n",
       "6.0      7104\n",
       "8.0      4906\n",
       "9.0      2547\n",
       "10.0     2110\n",
       "11.0     1407\n",
       "12.0      992\n",
       "13.0      694\n",
       "14.0      453\n",
       "15.0      259\n",
       "16.0      145\n",
       "Name: semester_idx, dtype: int64"
      ]
     },
     "execution_count": 32,
     "metadata": {},
     "output_type": "execute_result"
    }
   ],
   "source": [
    "maj_change_sem = student_train_multi.loc[student_train_multi['changed_major'] == 1]['semester_idx']\n",
    "sem_counts2 = maj_change_sem.value_counts(dropna=False)\n",
    "sem_counts2"
   ]
  },
  {
   "cell_type": "code",
   "execution_count": 33,
   "id": "d232b891-8b64-4705-b3c0-2e56bbbde8d6",
   "metadata": {},
   "outputs": [
    {
     "data": {
      "text/html": [
       "<div>\n",
       "<style scoped>\n",
       "    .dataframe tbody tr th:only-of-type {\n",
       "        vertical-align: middle;\n",
       "    }\n",
       "\n",
       "    .dataframe tbody tr th {\n",
       "        vertical-align: top;\n",
       "    }\n",
       "\n",
       "    .dataframe thead th {\n",
       "        text-align: right;\n",
       "    }\n",
       "</style>\n",
       "<table border=\"1\" class=\"dataframe\">\n",
       "  <thead>\n",
       "    <tr style=\"text-align: right;\">\n",
       "      <th></th>\n",
       "      <th>semester_idx</th>\n",
       "      <th>count</th>\n",
       "    </tr>\n",
       "  </thead>\n",
       "  <tbody>\n",
       "    <tr>\n",
       "      <th>0</th>\n",
       "      <td>2.0</td>\n",
       "      <td>17143</td>\n",
       "    </tr>\n",
       "    <tr>\n",
       "      <th>3</th>\n",
       "      <td>3.0</td>\n",
       "      <td>7560</td>\n",
       "    </tr>\n",
       "    <tr>\n",
       "      <th>1</th>\n",
       "      <td>4.0</td>\n",
       "      <td>15218</td>\n",
       "    </tr>\n",
       "    <tr>\n",
       "      <th>2</th>\n",
       "      <td>5.0</td>\n",
       "      <td>11855</td>\n",
       "    </tr>\n",
       "    <tr>\n",
       "      <th>5</th>\n",
       "      <td>6.0</td>\n",
       "      <td>7104</td>\n",
       "    </tr>\n",
       "    <tr>\n",
       "      <th>4</th>\n",
       "      <td>7.0</td>\n",
       "      <td>7144</td>\n",
       "    </tr>\n",
       "    <tr>\n",
       "      <th>6</th>\n",
       "      <td>8.0</td>\n",
       "      <td>4906</td>\n",
       "    </tr>\n",
       "    <tr>\n",
       "      <th>7</th>\n",
       "      <td>9.0</td>\n",
       "      <td>2547</td>\n",
       "    </tr>\n",
       "    <tr>\n",
       "      <th>8</th>\n",
       "      <td>10.0</td>\n",
       "      <td>2110</td>\n",
       "    </tr>\n",
       "    <tr>\n",
       "      <th>9</th>\n",
       "      <td>11.0</td>\n",
       "      <td>1407</td>\n",
       "    </tr>\n",
       "    <tr>\n",
       "      <th>10</th>\n",
       "      <td>12.0</td>\n",
       "      <td>992</td>\n",
       "    </tr>\n",
       "    <tr>\n",
       "      <th>11</th>\n",
       "      <td>13.0</td>\n",
       "      <td>694</td>\n",
       "    </tr>\n",
       "    <tr>\n",
       "      <th>12</th>\n",
       "      <td>14.0</td>\n",
       "      <td>453</td>\n",
       "    </tr>\n",
       "    <tr>\n",
       "      <th>13</th>\n",
       "      <td>15.0</td>\n",
       "      <td>259</td>\n",
       "    </tr>\n",
       "    <tr>\n",
       "      <th>14</th>\n",
       "      <td>16.0</td>\n",
       "      <td>145</td>\n",
       "    </tr>\n",
       "  </tbody>\n",
       "</table>\n",
       "</div>"
      ],
      "text/plain": [
       "    semester_idx  count\n",
       "0            2.0  17143\n",
       "3            3.0   7560\n",
       "1            4.0  15218\n",
       "2            5.0  11855\n",
       "5            6.0   7104\n",
       "4            7.0   7144\n",
       "6            8.0   4906\n",
       "7            9.0   2547\n",
       "8           10.0   2110\n",
       "9           11.0   1407\n",
       "10          12.0    992\n",
       "11          13.0    694\n",
       "12          14.0    453\n",
       "13          15.0    259\n",
       "14          16.0    145"
      ]
     },
     "execution_count": 33,
     "metadata": {},
     "output_type": "execute_result"
    }
   ],
   "source": [
    "sem_counts2 = pd.DataFrame({'semester_idx':sem_counts2.index, 'count':sem_counts2.values})\n",
    "sem_counts2 = sem_counts2.sort_values(by='semester_idx')\n",
    "sem_counts2"
   ]
  },
  {
   "cell_type": "code",
   "execution_count": 34,
   "id": "79c7d4fc-7858-4301-9b30-1ebc12f8a2ea",
   "metadata": {},
   "outputs": [
    {
     "name": "stdout",
     "output_type": "stream",
     "text": [
      "[ 2.  3.  4.  5.  6.  7.  8.  9. 10. 11. 12. 13. 14. 15. 16.]\n"
     ]
    }
   ],
   "source": [
    "maj_change_sem_data = np.asarray(sem_counts2['semester_idx'])\n",
    "print(maj_change_sem_data)\n",
    "num_points3 = len(maj_change_sem_data)"
   ]
  },
  {
   "cell_type": "code",
   "execution_count": 35,
   "id": "1ea754f3-25d8-407a-94cb-70cf3798b8ad",
   "metadata": {},
   "outputs": [
    {
     "data": {
      "text/plain": [
       "array([17143,  7560, 15218, 11855,  7104,  7144,  4906,  2547,  2110,\n",
       "        1407,   992,   694,   453,   259,   145], dtype=int64)"
      ]
     },
     "execution_count": 35,
     "metadata": {},
     "output_type": "execute_result"
    }
   ],
   "source": [
    "gauss_weights3 = np.asarray(sem_counts2['count'])\n",
    "gauss_weights3"
   ]
  },
  {
   "cell_type": "code",
   "execution_count": 36,
   "id": "909756e3-73a3-4e7d-a4f1-ce7886ff5fa3",
   "metadata": {},
   "outputs": [
    {
     "data": {
      "image/png": "[encoded data removed]",
      "text/plain": [
       "<Figure size 1440x288 with 1 Axes>"
      ]
     },
     "metadata": {
      "needs_background": "light"
     },
     "output_type": "display_data"
    }
   ],
   "source": [
    "# generate and plot the KDE of the semester_idx and changed_major=1 data\n",
    "\n",
    "L = 0.25\n",
    "x = np.linspace(0, 20, 1000)\n",
    "y = np.zeros(len(x))\n",
    "\n",
    "for i in range(num_points3):\n",
    "    y += gauss_weights3[i]*np.exp(-(x - maj_change_sem_data[i])**2/L)/num_points3\n",
    "\n",
    "plt.figure(figsize=(20,4))\n",
    "plt.plot(x,y)\n",
    "# plt.vlines(no_maj_change_age_data, 0, 1, alpha=0.2)\n",
    "plt.title(\"Kernel density estimation (KDE) of semester_idx and changed_major=1\")\n",
    "plt.show()"
   ]
  },
  {
   "cell_type": "markdown",
   "id": "9c1dfb21-5a79-444f-aa0a-697f9ad1ba8a",
   "metadata": {},
   "source": [
    "Notice an initial peak around semester 2 (end of first year), then another peak around semesters 4 and 5 (end of second/beginning of third year)"
   ]
  },
  {
   "cell_type": "code",
   "execution_count": 37,
   "id": "9a1a0bca-938c-4cad-bbfc-5d329d1ab1fa",
   "metadata": {},
   "outputs": [
    {
     "data": {
      "text/html": [
       "<div>\n",
       "<style scoped>\n",
       "    .dataframe tbody tr th:only-of-type {\n",
       "        vertical-align: middle;\n",
       "    }\n",
       "\n",
       "    .dataframe tbody tr th {\n",
       "        vertical-align: top;\n",
       "    }\n",
       "\n",
       "    .dataframe thead th {\n",
       "        text-align: right;\n",
       "    }\n",
       "</style>\n",
       "<table border=\"1\" class=\"dataframe\">\n",
       "  <thead>\n",
       "    <tr style=\"text-align: right;\">\n",
       "      <th>changed_major</th>\n",
       "      <th>0.0</th>\n",
       "      <th>1.0</th>\n",
       "    </tr>\n",
       "    <tr>\n",
       "      <th>first_gen</th>\n",
       "      <th></th>\n",
       "      <th></th>\n",
       "    </tr>\n",
       "  </thead>\n",
       "  <tbody>\n",
       "    <tr>\n",
       "      <th>0.0</th>\n",
       "      <td>650194</td>\n",
       "      <td>74425</td>\n",
       "    </tr>\n",
       "    <tr>\n",
       "      <th>1.0</th>\n",
       "      <td>46626</td>\n",
       "      <td>5112</td>\n",
       "    </tr>\n",
       "  </tbody>\n",
       "</table>\n",
       "</div>"
      ],
      "text/plain": [
       "changed_major     0.0    1.0\n",
       "first_gen                   \n",
       "0.0            650194  74425\n",
       "1.0             46626   5112"
      ]
     },
     "execution_count": 37,
     "metadata": {},
     "output_type": "execute_result"
    }
   ],
   "source": [
    "# generate contingency table for the features `first_gen` and `changed_major`\n",
    "\n",
    "first_gen = student_train['first_gen'].to_numpy()\n",
    "changed_major = student_train['changed_major'].to_numpy()\n",
    "\n",
    "cont_table_fgen = pd.crosstab(first_gen, changed_major, rownames=['first_gen'], colnames=['changed_major'])\n",
    "cont_table_fgen"
   ]
  },
  {
   "cell_type": "code",
   "execution_count": 38,
   "id": "3f6d3c4c-68c2-442f-86ab-3201ebb57451",
   "metadata": {},
   "outputs": [
    {
     "data": {
      "text/plain": [
       "<AxesSubplot:xlabel='changed_major', ylabel='first_gen'>"
      ]
     },
     "execution_count": 38,
     "metadata": {},
     "output_type": "execute_result"
    },
    {
     "data": {
      "image/png": "[encoded data removed]",
      "text/plain": [
       "<Figure size 864x576 with 2 Axes>"
      ]
     },
     "metadata": {
      "needs_background": "light"
     },
     "output_type": "display_data"
    }
   ],
   "source": [
    "plt.figure(figsize=(12,8))\n",
    "sns.heatmap(cont_table_fgen, annot=True, cmap=\"YlGnBu\")"
   ]
  },
  {
   "cell_type": "code",
   "execution_count": 39,
   "id": "d1a1131b-e496-4e9f-85fb-d91116430d47",
   "metadata": {},
   "outputs": [
    {
     "name": "stdout",
     "output_type": "stream",
     "text": [
      "Tetrachoric correlation coefficient for first_gen and changed_major:  0.48367587433409676\n"
     ]
    }
   ],
   "source": [
    "import math\n",
    "\n",
    "cont_table_matrix_fgen = cont_table_fgen\n",
    "a = cont_table_matrix_fgen[0][0]\n",
    "b = cont_table_matrix_fgen[0][1]\n",
    "c = cont_table_matrix_fgen[1][0]\n",
    "d = cont_table_matrix_fgen[1][1]\n",
    "\n",
    "tet_firstgen = math.cos(180/(1+math.sqrt((b*c)/(a*d))))\n",
    "print('Tetrachoric correlation coefficient for first_gen and changed_major: ', tet_firstgen)"
   ]
  },
  {
   "cell_type": "code",
   "execution_count": 40,
   "id": "4f6968aa-d862-4062-80b0-7cc858f035c1",
   "metadata": {},
   "outputs": [
    {
     "name": "stdout",
     "output_type": "stream",
     "text": [
      "Chi square value:  7.960142993527462\n",
      "p value:  0.004781863614743619\n",
      "Degrees of freedom:  1\n"
     ]
    }
   ],
   "source": [
    "# perform chi-square test\n",
    "\n",
    "from scipy.stats import chi2_contingency\n",
    "\n",
    "c_fgen, p_fgen, dof_fgen, expected_fgen = chi2_contingency(cont_table_fgen)\n",
    "print('Chi square value: ', c_fgen)\n",
    "print('p value: ', p_fgen)\n",
    "print('Degrees of freedom: ', dof_fgen)"
   ]
  },
  {
   "cell_type": "code",
   "execution_count": 41,
   "id": "21985557-fb06-46e9-9f90-6e056a0e64b0",
   "metadata": {},
   "outputs": [
    {
     "data": {
      "text/html": [
       "<div>\n",
       "<style scoped>\n",
       "    .dataframe tbody tr th:only-of-type {\n",
       "        vertical-align: middle;\n",
       "    }\n",
       "\n",
       "    .dataframe tbody tr th {\n",
       "        vertical-align: top;\n",
       "    }\n",
       "\n",
       "    .dataframe thead th {\n",
       "        text-align: right;\n",
       "    }\n",
       "</style>\n",
       "<table border=\"1\" class=\"dataframe\">\n",
       "  <thead>\n",
       "    <tr style=\"text-align: right;\">\n",
       "      <th>changed_major</th>\n",
       "      <th>0.0</th>\n",
       "      <th>1.0</th>\n",
       "    </tr>\n",
       "    <tr>\n",
       "      <th>female</th>\n",
       "      <th></th>\n",
       "      <th></th>\n",
       "    </tr>\n",
       "  </thead>\n",
       "  <tbody>\n",
       "    <tr>\n",
       "      <th>0.0</th>\n",
       "      <td>323155</td>\n",
       "      <td>36997</td>\n",
       "    </tr>\n",
       "    <tr>\n",
       "      <th>1.0</th>\n",
       "      <td>373665</td>\n",
       "      <td>42540</td>\n",
       "    </tr>\n",
       "  </tbody>\n",
       "</table>\n",
       "</div>"
      ],
      "text/plain": [
       "changed_major     0.0    1.0\n",
       "female                      \n",
       "0.0            323155  36997\n",
       "1.0            373665  42540"
      ]
     },
     "execution_count": 41,
     "metadata": {},
     "output_type": "execute_result"
    }
   ],
   "source": [
    "# generate contingency table for the features `female` and `changed_major`\n",
    "\n",
    "female = student_train['female'].to_numpy()\n",
    "\n",
    "cont_table_fem = pd.crosstab(female, changed_major, rownames=['female'], colnames=['changed_major'])\n",
    "cont_table_fem"
   ]
  },
  {
   "cell_type": "code",
   "execution_count": 42,
   "id": "31daafbe-0ecb-4562-9eec-3ed9bfa1e7b2",
   "metadata": {},
   "outputs": [
    {
     "data": {
      "text/plain": [
       "<AxesSubplot:xlabel='changed_major', ylabel='female'>"
      ]
     },
     "execution_count": 42,
     "metadata": {},
     "output_type": "execute_result"
    },
    {
     "data": {
      "image/png": "[encoded data removed]",
      "text/plain": [
       "<Figure size 864x576 with 2 Axes>"
      ]
     },
     "metadata": {
      "needs_background": "light"
     },
     "output_type": "display_data"
    }
   ],
   "source": [
    "plt.figure(figsize=(12,8))\n",
    "sns.heatmap(cont_table_fem, annot=True, cmap=\"YlGnBu\")"
   ]
  },
  {
   "cell_type": "code",
   "execution_count": 43,
   "id": "70c43949-6df5-4ae6-836c-c19b29f95a7f",
   "metadata": {},
   "outputs": [
    {
     "name": "stdout",
     "output_type": "stream",
     "text": [
      "Tetrachoric correlation coefficient for female and changed_major:  -0.33175966050530625\n"
     ]
    }
   ],
   "source": [
    "cont_table_matrix_fem = cont_table_fem\n",
    "a = cont_table_matrix_fem[0][0]\n",
    "b = cont_table_matrix_fem[0][1]\n",
    "c = cont_table_matrix_fem[1][0]\n",
    "d = cont_table_matrix_fem[1][1]\n",
    "\n",
    "tet_female = math.cos(180/(1+math.sqrt((b*c)/(a*d))))\n",
    "print('Tetrachoric correlation coefficient for female and changed_major: ', tet_female)"
   ]
  },
  {
   "cell_type": "code",
   "execution_count": 44,
   "id": "4675efc5-bd63-4e78-9d56-f6f9fccaf5b2",
   "metadata": {},
   "outputs": [
    {
     "name": "stdout",
     "output_type": "stream",
     "text": [
      "Chi square value (female, changed_major):  0.5552466030086549\n",
      "p value (female, changed_major):  0.4561818239817499\n",
      "Degrees of freedom:  1\n"
     ]
    }
   ],
   "source": [
    "c_fem, p_fem, dof_fem, expected_fem = chi2_contingency(cont_table_fem)\n",
    "print('Chi square value (female, changed_major): ', c_fem)\n",
    "print('p value (female, changed_major): ', p_fem)\n",
    "print('Degrees of freedom: ', dof_fem)"
   ]
  },
  {
   "cell_type": "code",
   "execution_count": 45,
   "id": "af7e4bb0-5a5a-498e-b134-a7a347cb076c",
   "metadata": {},
   "outputs": [
    {
     "data": {
      "text/html": [
       "<div>\n",
       "<style scoped>\n",
       "    .dataframe tbody tr th:only-of-type {\n",
       "        vertical-align: middle;\n",
       "    }\n",
       "\n",
       "    .dataframe tbody tr th {\n",
       "        vertical-align: top;\n",
       "    }\n",
       "\n",
       "    .dataframe thead th {\n",
       "        text-align: right;\n",
       "    }\n",
       "</style>\n",
       "<table border=\"1\" class=\"dataframe\">\n",
       "  <thead>\n",
       "    <tr style=\"text-align: right;\">\n",
       "      <th>changed_major</th>\n",
       "      <th>0.0</th>\n",
       "      <th>1.0</th>\n",
       "    </tr>\n",
       "    <tr>\n",
       "      <th>enrolled_in_previous_semester</th>\n",
       "      <th></th>\n",
       "      <th></th>\n",
       "    </tr>\n",
       "  </thead>\n",
       "  <tbody>\n",
       "    <tr>\n",
       "      <th>0.0</th>\n",
       "      <td>103283</td>\n",
       "      <td>4173</td>\n",
       "    </tr>\n",
       "    <tr>\n",
       "      <th>1.0</th>\n",
       "      <td>584999</td>\n",
       "      <td>74768</td>\n",
       "    </tr>\n",
       "  </tbody>\n",
       "</table>\n",
       "</div>"
      ],
      "text/plain": [
       "changed_major                     0.0    1.0\n",
       "enrolled_in_previous_semester               \n",
       "0.0                            103283   4173\n",
       "1.0                            584999  74768"
      ]
     },
     "execution_count": 45,
     "metadata": {},
     "output_type": "execute_result"
    }
   ],
   "source": [
    "# generate contingency table for the features `enrolled_in_previous_semester` and `changed_major`\n",
    "\n",
    "enroll_prev = student_train['enrolled_in_previous_semester'].to_numpy()\n",
    "\n",
    "cont_table_enr = pd.crosstab(enroll_prev, changed_major, rownames=['enrolled_in_previous_semester'], colnames=['changed_major'])\n",
    "cont_table_enr"
   ]
  },
  {
   "cell_type": "code",
   "execution_count": 46,
   "id": "8a741a92-309e-49ac-83b3-f59ad7b4306e",
   "metadata": {},
   "outputs": [
    {
     "data": {
      "text/plain": [
       "<AxesSubplot:xlabel='changed_major', ylabel='enrolled_in_previous_semester'>"
      ]
     },
     "execution_count": 46,
     "metadata": {},
     "output_type": "execute_result"
    },
    {
     "data": {
      "image/png": "[encoded data removed]",
      "text/plain": [
       "<Figure size 864x576 with 2 Axes>"
      ]
     },
     "metadata": {
      "needs_background": "light"
     },
     "output_type": "display_data"
    }
   ],
   "source": [
    "plt.figure(figsize=(12,8))\n",
    "sns.heatmap(cont_table_enr, annot=True, cmap=\"YlGnBu\")"
   ]
  },
  {
   "cell_type": "code",
   "execution_count": 47,
   "id": "5161ea50-da1a-4d9e-ac6b-6ce44562813d",
   "metadata": {},
   "outputs": [
    {
     "name": "stdout",
     "output_type": "stream",
     "text": [
      "Tetrachoric correlation coefficient for enrolled_in_previous_semester and changed_major:  -0.5229467236048072\n"
     ]
    }
   ],
   "source": [
    "cont_table_matrix_enr = cont_table_enr\n",
    "a = cont_table_matrix_enr[0][0]\n",
    "b = cont_table_matrix_enr[0][1]\n",
    "c = cont_table_matrix_enr[1][0]\n",
    "d = cont_table_matrix_enr[1][1]\n",
    "\n",
    "tet_enr_prev = math.cos(180/(1+math.sqrt((b*c)/(a*d))))\n",
    "print('Tetrachoric correlation coefficient for enrolled_in_previous_semester and changed_major: ', tet_enr_prev)"
   ]
  },
  {
   "cell_type": "code",
   "execution_count": 48,
   "id": "418ae66d-7454-42b0-b6a5-888822364651",
   "metadata": {},
   "outputs": [
    {
     "name": "stdout",
     "output_type": "stream",
     "text": [
      "Chi square value (enrolled_in_previous_semester, changed_major):  5554.0634931494205\n",
      "p value (enrolled_in_previous_semester, changed_major):  0.0\n",
      "Degrees of freedom:  1\n"
     ]
    }
   ],
   "source": [
    "c_enr, p_enr, dof_enr, expected_enr = chi2_contingency(cont_table_enr)\n",
    "print('Chi square value (enrolled_in_previous_semester, changed_major): ', c_enr)\n",
    "print('p value (enrolled_in_previous_semester, changed_major): ', p_enr)\n",
    "print('Degrees of freedom: ', dof_enr)"
   ]
  },
  {
   "cell_type": "code",
   "execution_count": 49,
   "id": "713362a5-7abe-440f-8fdb-30e8d2634d6e",
   "metadata": {},
   "outputs": [
    {
     "data": {
      "text/html": [
       "<div>\n",
       "<style scoped>\n",
       "    .dataframe tbody tr th:only-of-type {\n",
       "        vertical-align: middle;\n",
       "    }\n",
       "\n",
       "    .dataframe tbody tr th {\n",
       "        vertical-align: top;\n",
       "    }\n",
       "\n",
       "    .dataframe thead th {\n",
       "        text-align: right;\n",
       "    }\n",
       "</style>\n",
       "<table border=\"1\" class=\"dataframe\">\n",
       "  <thead>\n",
       "    <tr style=\"text-align: right;\">\n",
       "      <th>changed_major</th>\n",
       "      <th>0.0</th>\n",
       "      <th>1.0</th>\n",
       "    </tr>\n",
       "    <tr>\n",
       "      <th>graduates_next_semester</th>\n",
       "      <th></th>\n",
       "      <th></th>\n",
       "    </tr>\n",
       "  </thead>\n",
       "  <tbody>\n",
       "    <tr>\n",
       "      <th>0.0</th>\n",
       "      <td>632449</td>\n",
       "      <td>78282</td>\n",
       "    </tr>\n",
       "    <tr>\n",
       "      <th>1.0</th>\n",
       "      <td>64371</td>\n",
       "      <td>1255</td>\n",
       "    </tr>\n",
       "  </tbody>\n",
       "</table>\n",
       "</div>"
      ],
      "text/plain": [
       "changed_major               0.0    1.0\n",
       "graduates_next_semester               \n",
       "0.0                      632449  78282\n",
       "1.0                       64371   1255"
      ]
     },
     "execution_count": 49,
     "metadata": {},
     "output_type": "execute_result"
    }
   ],
   "source": [
    "# generate contingency table for the features `enrolled_in_previous_semester` and `changed_major`\n",
    "\n",
    "grad_next = student_train['graduates_next_semester'].to_numpy()\n",
    "\n",
    "cont_table_grad = pd.crosstab(grad_next, changed_major, rownames=['graduates_next_semester'], colnames=['changed_major'])\n",
    "cont_table_grad"
   ]
  },
  {
   "cell_type": "code",
   "execution_count": 50,
   "id": "2c109bcf-9b0d-457a-95f0-b7fe9d565587",
   "metadata": {},
   "outputs": [
    {
     "data": {
      "text/plain": [
       "<AxesSubplot:xlabel='changed_major', ylabel='graduates_next_semester'>"
      ]
     },
     "execution_count": 50,
     "metadata": {},
     "output_type": "execute_result"
    },
    {
     "data": {
      "image/png": "[encoded data removed]",
      "text/plain": [
       "<Figure size 864x576 with 2 Axes>"
      ]
     },
     "metadata": {
      "needs_background": "light"
     },
     "output_type": "display_data"
    }
   ],
   "source": [
    "plt.figure(figsize=(12,8))\n",
    "sns.heatmap(cont_table_grad, annot=True, cmap=\"YlGnBu\")"
   ]
  },
  {
   "cell_type": "code",
   "execution_count": 51,
   "id": "c33101ee-f476-450e-940f-e967fde96c23",
   "metadata": {},
   "outputs": [
    {
     "name": "stdout",
     "output_type": "stream",
     "text": [
      "Tetrachoric correlation coefficient for graduates_next_semester and changed_major:  0.6403357466708572\n"
     ]
    }
   ],
   "source": [
    "cont_table_matrix_grad = cont_table_grad\n",
    "a = cont_table_matrix_grad[0][0]\n",
    "b = cont_table_matrix_grad[0][1]\n",
    "c = cont_table_matrix_grad[1][0]\n",
    "d = cont_table_matrix_grad[1][1]\n",
    "\n",
    "tet_enr_grad = math.cos(180/(1+math.sqrt((b*c)/(a*d))))\n",
    "print('Tetrachoric correlation coefficient for graduates_next_semester and changed_major: ', tet_enr_grad)"
   ]
  },
  {
   "cell_type": "code",
   "execution_count": 52,
   "id": "949a015f-500c-4b0c-8dcf-ac9a143f6268",
   "metadata": {},
   "outputs": [
    {
     "name": "stdout",
     "output_type": "stream",
     "text": [
      "Chi square value (graduates_next_semester, changed_major):  5411.797639017353\n",
      "p value (graduates_next_semester, changed_major):  0.0\n",
      "Degrees of freedom:  1\n"
     ]
    }
   ],
   "source": [
    "c_grad, p_grad, dof_grad, expected_grad = chi2_contingency(cont_table_grad)\n",
    "print('Chi square value (graduates_next_semester, changed_major): ', c_grad)\n",
    "print('p value (graduates_next_semester, changed_major): ', p_grad)\n",
    "print('Degrees of freedom: ', dof_grad)"
   ]
  },
  {
   "cell_type": "code",
   "execution_count": 53,
   "id": "38b4b80b-3915-4a43-8e48-fd5da69b8069",
   "metadata": {},
   "outputs": [
    {
     "data": {
      "text/html": [
       "<div>\n",
       "<style scoped>\n",
       "    .dataframe tbody tr th:only-of-type {\n",
       "        vertical-align: middle;\n",
       "    }\n",
       "\n",
       "    .dataframe tbody tr th {\n",
       "        vertical-align: top;\n",
       "    }\n",
       "\n",
       "    .dataframe thead th {\n",
       "        text-align: right;\n",
       "    }\n",
       "</style>\n",
       "<table border=\"1\" class=\"dataframe\">\n",
       "  <thead>\n",
       "    <tr style=\"text-align: right;\">\n",
       "      <th>changed_major</th>\n",
       "      <th>0.0</th>\n",
       "      <th>1.0</th>\n",
       "    </tr>\n",
       "    <tr>\n",
       "      <th>semester_idx</th>\n",
       "      <th></th>\n",
       "      <th></th>\n",
       "    </tr>\n",
       "  </thead>\n",
       "  <tbody>\n",
       "    <tr>\n",
       "      <th>1.0</th>\n",
       "      <td>94342</td>\n",
       "      <td>0</td>\n",
       "    </tr>\n",
       "    <tr>\n",
       "      <th>2.0</th>\n",
       "      <td>71385</td>\n",
       "      <td>17143</td>\n",
       "    </tr>\n",
       "    <tr>\n",
       "      <th>3.0</th>\n",
       "      <td>51009</td>\n",
       "      <td>7560</td>\n",
       "    </tr>\n",
       "    <tr>\n",
       "      <th>4.0</th>\n",
       "      <td>65141</td>\n",
       "      <td>15218</td>\n",
       "    </tr>\n",
       "    <tr>\n",
       "      <th>5.0</th>\n",
       "      <td>58041</td>\n",
       "      <td>11855</td>\n",
       "    </tr>\n",
       "    <tr>\n",
       "      <th>6.0</th>\n",
       "      <td>56596</td>\n",
       "      <td>7104</td>\n",
       "    </tr>\n",
       "    <tr>\n",
       "      <th>7.0</th>\n",
       "      <td>60848</td>\n",
       "      <td>7144</td>\n",
       "    </tr>\n",
       "    <tr>\n",
       "      <th>8.0</th>\n",
       "      <td>56429</td>\n",
       "      <td>4906</td>\n",
       "    </tr>\n",
       "    <tr>\n",
       "      <th>9.0</th>\n",
       "      <td>52666</td>\n",
       "      <td>2547</td>\n",
       "    </tr>\n",
       "    <tr>\n",
       "      <th>10.0</th>\n",
       "      <td>48686</td>\n",
       "      <td>2110</td>\n",
       "    </tr>\n",
       "    <tr>\n",
       "      <th>11.0</th>\n",
       "      <td>34513</td>\n",
       "      <td>1407</td>\n",
       "    </tr>\n",
       "    <tr>\n",
       "      <th>12.0</th>\n",
       "      <td>20127</td>\n",
       "      <td>992</td>\n",
       "    </tr>\n",
       "    <tr>\n",
       "      <th>13.0</th>\n",
       "      <td>13195</td>\n",
       "      <td>694</td>\n",
       "    </tr>\n",
       "    <tr>\n",
       "      <th>14.0</th>\n",
       "      <td>7524</td>\n",
       "      <td>453</td>\n",
       "    </tr>\n",
       "    <tr>\n",
       "      <th>15.0</th>\n",
       "      <td>3963</td>\n",
       "      <td>259</td>\n",
       "    </tr>\n",
       "    <tr>\n",
       "      <th>16.0</th>\n",
       "      <td>2355</td>\n",
       "      <td>145</td>\n",
       "    </tr>\n",
       "  </tbody>\n",
       "</table>\n",
       "</div>"
      ],
      "text/plain": [
       "changed_major    0.0    1.0\n",
       "semester_idx               \n",
       "1.0            94342      0\n",
       "2.0            71385  17143\n",
       "3.0            51009   7560\n",
       "4.0            65141  15218\n",
       "5.0            58041  11855\n",
       "6.0            56596   7104\n",
       "7.0            60848   7144\n",
       "8.0            56429   4906\n",
       "9.0            52666   2547\n",
       "10.0           48686   2110\n",
       "11.0           34513   1407\n",
       "12.0           20127    992\n",
       "13.0           13195    694\n",
       "14.0            7524    453\n",
       "15.0            3963    259\n",
       "16.0            2355    145"
      ]
     },
     "execution_count": 53,
     "metadata": {},
     "output_type": "execute_result"
    }
   ],
   "source": [
    "# generate contingency table for the features `semester_idx` and `changed_major`\n",
    "\n",
    "sem_idx = student_train['semester_idx'].to_numpy()\n",
    "\n",
    "cont_table_sem = pd.crosstab(sem_idx, changed_major, rownames=['semester_idx'], colnames=['changed_major'])\n",
    "cont_table_sem"
   ]
  },
  {
   "cell_type": "code",
   "execution_count": 54,
   "id": "79957447-8724-4078-968b-17292676dd36",
   "metadata": {},
   "outputs": [
    {
     "data": {
      "text/plain": [
       "<AxesSubplot:xlabel='changed_major', ylabel='semester_idx'>"
      ]
     },
     "execution_count": 54,
     "metadata": {},
     "output_type": "execute_result"
    },
    {
     "data": {
      "image/png": "[encoded data removed]",
      "text/plain": [
       "<Figure size 864x576 with 2 Axes>"
      ]
     },
     "metadata": {
      "needs_background": "light"
     },
     "output_type": "display_data"
    }
   ],
   "source": [
    "plt.figure(figsize=(12,8))\n",
    "sns.heatmap(cont_table_sem, annot=True, cmap=\"YlGnBu\")"
   ]
  },
  {
   "cell_type": "code",
   "execution_count": 55,
   "id": "0f86a2e7-7db7-4cf9-a9d7-790888383060",
   "metadata": {},
   "outputs": [
    {
     "name": "stdout",
     "output_type": "stream",
     "text": [
      "Chi square value (semester_idx, changed_major):  36610.834247118066\n",
      "p value (semester_idx, changed_major):  0.0\n",
      "Degrees of freedom:  15\n"
     ]
    }
   ],
   "source": [
    "c_sem, p_sem, dof_sem, expected_sem = chi2_contingency(cont_table_sem)\n",
    "print('Chi square value (semester_idx, changed_major): ', c_sem)\n",
    "print('p value (semester_idx, changed_major): ', p_sem)\n",
    "print('Degrees of freedom: ', dof_sem)"
   ]
  },
  {
   "cell_type": "code",
   "execution_count": 56,
   "id": "3931def3-e3eb-495a-bb29-bcbd2c576789",
   "metadata": {},
   "outputs": [
    {
     "data": {
      "text/html": [
       "<div>\n",
       "<style scoped>\n",
       "    .dataframe tbody tr th:only-of-type {\n",
       "        vertical-align: middle;\n",
       "    }\n",
       "\n",
       "    .dataframe tbody tr th {\n",
       "        vertical-align: top;\n",
       "    }\n",
       "\n",
       "    .dataframe thead th {\n",
       "        text-align: right;\n",
       "    }\n",
       "</style>\n",
       "<table border=\"1\" class=\"dataframe\">\n",
       "  <thead>\n",
       "    <tr style=\"text-align: right;\">\n",
       "      <th>changed_major</th>\n",
       "      <th>0.0</th>\n",
       "      <th>1.0</th>\n",
       "    </tr>\n",
       "    <tr>\n",
       "      <th>graduated_semester_idx</th>\n",
       "      <th></th>\n",
       "      <th></th>\n",
       "    </tr>\n",
       "  </thead>\n",
       "  <tbody>\n",
       "    <tr>\n",
       "      <th>1.0</th>\n",
       "      <td>6</td>\n",
       "      <td>0</td>\n",
       "    </tr>\n",
       "    <tr>\n",
       "      <th>2.0</th>\n",
       "      <td>30</td>\n",
       "      <td>0</td>\n",
       "    </tr>\n",
       "    <tr>\n",
       "      <th>3.0</th>\n",
       "      <td>290</td>\n",
       "      <td>0</td>\n",
       "    </tr>\n",
       "    <tr>\n",
       "      <th>4.0</th>\n",
       "      <td>1629</td>\n",
       "      <td>48</td>\n",
       "    </tr>\n",
       "    <tr>\n",
       "      <th>5.0</th>\n",
       "      <td>8092</td>\n",
       "      <td>320</td>\n",
       "    </tr>\n",
       "    <tr>\n",
       "      <th>6.0</th>\n",
       "      <td>13497</td>\n",
       "      <td>662</td>\n",
       "    </tr>\n",
       "    <tr>\n",
       "      <th>7.0</th>\n",
       "      <td>19267</td>\n",
       "      <td>1231</td>\n",
       "    </tr>\n",
       "    <tr>\n",
       "      <th>8.0</th>\n",
       "      <td>33956</td>\n",
       "      <td>2855</td>\n",
       "    </tr>\n",
       "    <tr>\n",
       "      <th>9.0</th>\n",
       "      <td>64938</td>\n",
       "      <td>6574</td>\n",
       "    </tr>\n",
       "    <tr>\n",
       "      <th>10.0</th>\n",
       "      <td>113227</td>\n",
       "      <td>12551</td>\n",
       "    </tr>\n",
       "    <tr>\n",
       "      <th>11.0</th>\n",
       "      <td>131962</td>\n",
       "      <td>15446</td>\n",
       "    </tr>\n",
       "    <tr>\n",
       "      <th>12.0</th>\n",
       "      <td>80246</td>\n",
       "      <td>10344</td>\n",
       "    </tr>\n",
       "    <tr>\n",
       "      <th>13.0</th>\n",
       "      <td>57402</td>\n",
       "      <td>7615</td>\n",
       "    </tr>\n",
       "    <tr>\n",
       "      <th>14.0</th>\n",
       "      <td>37955</td>\n",
       "      <td>5059</td>\n",
       "    </tr>\n",
       "    <tr>\n",
       "      <th>15.0</th>\n",
       "      <td>19225</td>\n",
       "      <td>2646</td>\n",
       "    </tr>\n",
       "    <tr>\n",
       "      <th>16.0</th>\n",
       "      <td>11067</td>\n",
       "      <td>1427</td>\n",
       "    </tr>\n",
       "    <tr>\n",
       "      <th>17.0</th>\n",
       "      <td>6864</td>\n",
       "      <td>949</td>\n",
       "    </tr>\n",
       "    <tr>\n",
       "      <th>18.0</th>\n",
       "      <td>4272</td>\n",
       "      <td>595</td>\n",
       "    </tr>\n",
       "    <tr>\n",
       "      <th>19.0</th>\n",
       "      <td>2265</td>\n",
       "      <td>316</td>\n",
       "    </tr>\n",
       "    <tr>\n",
       "      <th>20.0</th>\n",
       "      <td>1591</td>\n",
       "      <td>226</td>\n",
       "    </tr>\n",
       "  </tbody>\n",
       "</table>\n",
       "</div>"
      ],
      "text/plain": [
       "changed_major              0.0    1.0\n",
       "graduated_semester_idx               \n",
       "1.0                          6      0\n",
       "2.0                         30      0\n",
       "3.0                        290      0\n",
       "4.0                       1629     48\n",
       "5.0                       8092    320\n",
       "6.0                      13497    662\n",
       "7.0                      19267   1231\n",
       "8.0                      33956   2855\n",
       "9.0                      64938   6574\n",
       "10.0                    113227  12551\n",
       "11.0                    131962  15446\n",
       "12.0                     80246  10344\n",
       "13.0                     57402   7615\n",
       "14.0                     37955   5059\n",
       "15.0                     19225   2646\n",
       "16.0                     11067   1427\n",
       "17.0                      6864    949\n",
       "18.0                      4272    595\n",
       "19.0                      2265    316\n",
       "20.0                      1591    226"
      ]
     },
     "execution_count": 56,
     "metadata": {},
     "output_type": "execute_result"
    }
   ],
   "source": [
    "# generate contingency table for the features `graduated_semester_idx` and `changed_major`\n",
    "\n",
    "grad_idx = student_train['graduated_semester_idx'].to_numpy()\n",
    "\n",
    "cont_table_grad_idx = pd.crosstab(grad_idx, changed_major, rownames=['graduated_semester_idx'], colnames=['changed_major'])\n",
    "cont_table_grad_idx"
   ]
  },
  {
   "cell_type": "code",
   "execution_count": 57,
   "id": "da8fe245-c761-4769-aba5-c8750b211d31",
   "metadata": {},
   "outputs": [
    {
     "data": {
      "text/plain": [
       "<AxesSubplot:xlabel='changed_major', ylabel='graduated_semester_idx'>"
      ]
     },
     "execution_count": 57,
     "metadata": {},
     "output_type": "execute_result"
    },
    {
     "data": {
      "image/png": "[encoded data removed]",
      "text/plain": [
       "<Figure size 864x576 with 2 Axes>"
      ]
     },
     "metadata": {
      "needs_background": "light"
     },
     "output_type": "display_data"
    }
   ],
   "source": [
    "plt.figure(figsize=(12,8))\n",
    "sns.heatmap(cont_table_grad_idx, annot=True, cmap=\"YlGnBu\")"
   ]
  },
  {
   "cell_type": "code",
   "execution_count": 58,
   "id": "030741b5-c448-4bfd-909f-7267c7c87cdc",
   "metadata": {},
   "outputs": [
    {
     "name": "stdout",
     "output_type": "stream",
     "text": [
      "Chi square value (semester_idx, changed_major):  2325.3570497172955\n",
      "p value (semester_idx, changed_major):  0.0\n",
      "Degrees of freedom:  19\n"
     ]
    }
   ],
   "source": [
    "c_grad_idx, p_grad_idx, dof_grad_idx, expected_grad_idx = chi2_contingency(cont_table_grad_idx)\n",
    "print('Chi square value (semester_idx, changed_major): ', c_grad_idx)\n",
    "print('p value (semester_idx, changed_major): ', p_grad_idx)\n",
    "print('Degrees of freedom: ', dof_grad_idx)"
   ]
  },
  {
   "cell_type": "code",
   "execution_count": 59,
   "id": "a06663f7-72f7-4ed7-a3ca-82e698c1edf6",
   "metadata": {},
   "outputs": [
    {
     "data": {
      "text/html": [
       "<div>\n",
       "<style scoped>\n",
       "    .dataframe tbody tr th:only-of-type {\n",
       "        vertical-align: middle;\n",
       "    }\n",
       "\n",
       "    .dataframe tbody tr th {\n",
       "        vertical-align: top;\n",
       "    }\n",
       "\n",
       "    .dataframe thead th {\n",
       "        text-align: right;\n",
       "    }\n",
       "</style>\n",
       "<table border=\"1\" class=\"dataframe\">\n",
       "  <thead>\n",
       "    <tr style=\"text-align: right;\">\n",
       "      <th>changed_major</th>\n",
       "      <th>0.0</th>\n",
       "      <th>1.0</th>\n",
       "    </tr>\n",
       "    <tr>\n",
       "      <th>n_majors</th>\n",
       "      <th></th>\n",
       "      <th></th>\n",
       "    </tr>\n",
       "  </thead>\n",
       "  <tbody>\n",
       "    <tr>\n",
       "      <th>1.0</th>\n",
       "      <td>476993</td>\n",
       "      <td>56192</td>\n",
       "    </tr>\n",
       "    <tr>\n",
       "      <th>2.0</th>\n",
       "      <td>152415</td>\n",
       "      <td>16911</td>\n",
       "    </tr>\n",
       "    <tr>\n",
       "      <th>3.0</th>\n",
       "      <td>47925</td>\n",
       "      <td>4796</td>\n",
       "    </tr>\n",
       "    <tr>\n",
       "      <th>4.0</th>\n",
       "      <td>14008</td>\n",
       "      <td>1219</td>\n",
       "    </tr>\n",
       "    <tr>\n",
       "      <th>5.0</th>\n",
       "      <td>4062</td>\n",
       "      <td>329</td>\n",
       "    </tr>\n",
       "    <tr>\n",
       "      <th>6.0</th>\n",
       "      <td>1051</td>\n",
       "      <td>66</td>\n",
       "    </tr>\n",
       "    <tr>\n",
       "      <th>7.0</th>\n",
       "      <td>283</td>\n",
       "      <td>17</td>\n",
       "    </tr>\n",
       "    <tr>\n",
       "      <th>8.0</th>\n",
       "      <td>59</td>\n",
       "      <td>6</td>\n",
       "    </tr>\n",
       "    <tr>\n",
       "      <th>9.0</th>\n",
       "      <td>15</td>\n",
       "      <td>1</td>\n",
       "    </tr>\n",
       "    <tr>\n",
       "      <th>10.0</th>\n",
       "      <td>4</td>\n",
       "      <td>0</td>\n",
       "    </tr>\n",
       "    <tr>\n",
       "      <th>11.0</th>\n",
       "      <td>3</td>\n",
       "      <td>0</td>\n",
       "    </tr>\n",
       "    <tr>\n",
       "      <th>13.0</th>\n",
       "      <td>1</td>\n",
       "      <td>0</td>\n",
       "    </tr>\n",
       "    <tr>\n",
       "      <th>14.0</th>\n",
       "      <td>1</td>\n",
       "      <td>0</td>\n",
       "    </tr>\n",
       "  </tbody>\n",
       "</table>\n",
       "</div>"
      ],
      "text/plain": [
       "changed_major     0.0    1.0\n",
       "n_majors                    \n",
       "1.0            476993  56192\n",
       "2.0            152415  16911\n",
       "3.0             47925   4796\n",
       "4.0             14008   1219\n",
       "5.0              4062    329\n",
       "6.0              1051     66\n",
       "7.0               283     17\n",
       "8.0                59      6\n",
       "9.0                15      1\n",
       "10.0                4      0\n",
       "11.0                3      0\n",
       "13.0                1      0\n",
       "14.0                1      0"
      ]
     },
     "execution_count": 59,
     "metadata": {},
     "output_type": "execute_result"
    }
   ],
   "source": [
    "# generate contingency table for the features `graduated_semester_idx` and `changed_major`\n",
    "\n",
    "n_majors = student_train['n_majors'].to_numpy()\n",
    "\n",
    "cont_table_nmajors = pd.crosstab(n_majors, changed_major, rownames=['n_majors'], colnames=['changed_major'])\n",
    "cont_table_nmajors"
   ]
  },
  {
   "cell_type": "code",
   "execution_count": 60,
   "id": "695aa6ff-d65f-49fb-b137-47426a538000",
   "metadata": {},
   "outputs": [
    {
     "data": {
      "text/plain": [
       "<AxesSubplot:xlabel='changed_major', ylabel='n_majors'>"
      ]
     },
     "execution_count": 60,
     "metadata": {},
     "output_type": "execute_result"
    },
    {
     "data": {
      "image/png": "[encoded data removed]",
      "text/plain": [
       "<Figure size 864x576 with 2 Axes>"
      ]
     },
     "metadata": {
      "needs_background": "light"
     },
     "output_type": "display_data"
    }
   ],
   "source": [
    "plt.figure(figsize=(12,8))\n",
    "sns.heatmap(cont_table_nmajors, annot=True, cmap=\"YlGnBu\")"
   ]
  },
  {
   "cell_type": "code",
   "execution_count": 61,
   "id": "e30d674d-3a69-4b67-a9fb-fed16915dd2c",
   "metadata": {},
   "outputs": [
    {
     "name": "stdout",
     "output_type": "stream",
     "text": [
      "Chi square value (n_majors, changed_major):  288.1836321667238\n",
      "p value (n_majors, changed_major):  1.4156694576091602e-54\n",
      "Degrees of freedom:  12\n"
     ]
    }
   ],
   "source": [
    "c_nmajors, p_nmajors, dof_nmajors, expected_nmajors = chi2_contingency(cont_table_nmajors)\n",
    "print('Chi square value (n_majors, changed_major): ', c_nmajors)\n",
    "print('p value (n_majors, changed_major): ', p_nmajors)\n",
    "print('Degrees of freedom: ', dof_nmajors)"
   ]
  },
  {
   "cell_type": "code",
   "execution_count": 62,
   "id": "d5001e6f-64cf-4e28-87e6-2371986f7c61",
   "metadata": {},
   "outputs": [
    {
     "name": "stdout",
     "output_type": "stream",
     "text": [
      "-0.09297590694911488\n"
     ]
    }
   ],
   "source": [
    "from scipy.stats import pointbiserialr\n",
    "\n",
    "maj_gpa_array = np.asarray(student_train['major_gpa'])\n",
    "change_major_array = np.asarray(student_train['changed_major'])\n",
    "\n",
    "r_maj_gpa, p_maj_gpa = pointbiserialr(maj_gpa_array, change_major_array)\n",
    "print(r_maj_gpa)"
   ]
  },
  {
   "cell_type": "code",
   "execution_count": 63,
   "id": "c2191304-c611-446e-9ffb-1d74c1286706",
   "metadata": {},
   "outputs": [
    {
     "name": "stdout",
     "output_type": "stream",
     "text": [
      "-0.05586866793420442\n"
     ]
    }
   ],
   "source": [
    "cum_avg_gpa_array = np.asarray(student_train['cumulative_avg_grade'])\n",
    "\n",
    "r_cum_avg, p_cum_avg = pointbiserialr(cum_avg_gpa_array, change_major_array)\n",
    "print(r_cum_avg)"
   ]
  },
  {
   "cell_type": "code",
   "execution_count": 64,
   "id": "fd02ba3d-b163-48fd-91e0-f6859cc8b110",
   "metadata": {},
   "outputs": [
    {
     "name": "stdout",
     "output_type": "stream",
     "text": [
      "0.06372491738021885\n"
     ]
    }
   ],
   "source": [
    "nonmaj_gpa_array = np.asarray(student_train['nonmajor_gpa'])\n",
    "\n",
    "r_nonmaj_gpa, p_nonmaj_gpa = pointbiserialr(nonmaj_gpa_array, change_major_array)\n",
    "print(r_nonmaj_gpa)"
   ]
  },
  {
   "cell_type": "markdown",
   "id": "3aaa2f03-238c-4096-b957-af3a0989e249",
   "metadata": {},
   "source": [
    "### Summary of significant/interesting results from the EDA:\n",
    "\n",
    "- Generation of Pearson correlation coefficients showed the highest correlations between `changed_major` and `nonmajor_credits`, `enrolled_in_previous_semester`, `nonmajor_gpa`, `total_semester_credit_hours`, `graduated_semester_idx`, `major_gpa`, `major_credits`, `graduates_next_semester`, `semester_idx`, `cumulative_credit_hours`, `cumulative_avg_grade`\n",
    "- Chi-square tests showed association between `changed_major` and `first_gen`, `enrolled_in_previous_semester`, `graduates_next_semester`, `semester_idx`, `graduated_semester_idx`, `n_majors`"
   ]
  },
  {
   "cell_type": "markdown",
   "id": "9907b2c9-8d5c-4f1c-9306-139631faee91",
   "metadata": {},
   "source": [
    "## Data Preparation\n",
    "\n",
    "##### Overview:\n",
    "\n",
    "Do the following for both the train and test sets\n",
    "- delete features that we don't plan on using\n",
    "- impute missing values for the following features: `start_age` (2 NaNs), `graduated_semester_idx`, `enrolled_in_previous_semester`\n",
    "- one-hot encode most of the binary/categorical features (except for the ones with many categories)\n",
    "- use standard scaling to scale the numerical features, since they are mostly normal distribution\n",
    "- create X and y train sets and test sets"
   ]
  },
  {
   "cell_type": "code",
   "execution_count": 65,
   "id": "98523dbb-e1aa-42b2-bf9a-35da3c3946c6",
   "metadata": {},
   "outputs": [],
   "source": [
    "# create copy of datasets, drop the features that we will not use\n",
    "\n",
    "student_train_edit = student_train.drop(columns=['hs_gpa', 'math_placement_score', 'Median income (dollars); Estimate; FAMILIES - Families',\n",
    "                    'Median income (dollars); Margin of Error; FAMILIES - Families', 'Median income (dollars); Estimate; Households',\n",
    "                      'Median income (dollars); Margin of Error; Households', 'Id2', 'Id', 'anon_id', 'first_course_year',\n",
    "                    'Number; Estimate; FAMILIES - Families', 'Number; Margin of Error; FAMILIES - Families',\n",
    "                    'zip_median_income_log', 'train', 'Geography', 'zipstr', 'HS_Zip_Code'])\n",
    "\n",
    "student_test_edit = student_test.drop(columns=['hs_gpa', 'math_placement_score', 'Median income (dollars); Estimate; FAMILIES - Families',\n",
    "                    'Median income (dollars); Margin of Error; FAMILIES - Families', 'Median income (dollars); Estimate; Households',\n",
    "                      'Median income (dollars); Margin of Error; Households', 'Id2', 'Id', 'anon_id', 'first_course_year',\n",
    "                    'Number; Estimate; FAMILIES - Families', 'Number; Margin of Error; FAMILIES - Families',\n",
    "                    'zip_median_income_log', 'train', 'Geography', 'zipstr', 'HS_Zip_Code'])"
   ]
  },
  {
   "cell_type": "code",
   "execution_count": 66,
   "id": "3b6458c0-75cf-4ba9-a7fc-a79d73c9b7b0",
   "metadata": {},
   "outputs": [
    {
     "name": "stdout",
     "output_type": "stream",
     "text": [
      "semester_idx\n",
      "female\n",
      "white_asian\n",
      "start_age\n",
      "first_gen\n",
      "changed_major\n",
      "n_majors\n",
      "total_semester_credit_hours\n",
      "cumulative_credit_hours\n",
      "graduated_semester_idx\n",
      "graduates_next_semester\n",
      "graduated\n",
      "AP_credit_hours\n",
      "major_credits\n",
      "nonmajor_credits\n",
      "major_gpa\n",
      "nonmajor_gpa\n",
      "enrolled_in_previous_semester\n",
      "avg_grade\n",
      "cumulative_avg_grade\n",
      "fraction_above_or_below_fulltime_credithours\n"
     ]
    }
   ],
   "source": [
    "for col in student_train_edit.columns:\n",
    "    print(col)"
   ]
  },
  {
   "cell_type": "code",
   "execution_count": 67,
   "id": "c2f061ed-8b69-4e0b-b247-bb9de425df74",
   "metadata": {},
   "outputs": [],
   "source": [
    "# impute missing values\n",
    "\n",
    "#from scipy.stats import mode\n",
    "\n",
    "# use the mode for start_age missing values\n",
    "#mode_age, count_age = mode(np.asarray(student_train_edit['start_age']))\n",
    "#mode_age = mode_age[0]\n",
    "#print(mode_age)\n",
    "\n",
    "#student_train_edit['start_age'] = student_train_edit['start_age'].fillna(mode_age)"
   ]
  },
  {
   "cell_type": "code",
   "execution_count": 68,
   "id": "b536bde3-b6f9-4ecb-a948-d29fdc6c61cc",
   "metadata": {},
   "outputs": [],
   "source": [
    "# check that there are no NaNs\n",
    "#student_train_edit['start_age'].isna().sum()"
   ]
  },
  {
   "cell_type": "code",
   "execution_count": 69,
   "id": "6299be2f-3f0e-4c74-b614-0d0438205c7f",
   "metadata": {},
   "outputs": [],
   "source": [
    "# use the mode for graduated_semester_idx missing values\n",
    "\n",
    "#mode_grad_idx, count_grad_idx = mode(np.asarray(student_train_edit['graduated_semester_idx']))\n",
    "#mode_grad_idx = mode_grad_idx[0]\n",
    "#print(mode_grad_idx)\n",
    "\n",
    "#student_train_edit['graduated_semester_idx'] = student_train_edit['graduated_semester_idx'].fillna(mode_grad_idx)"
   ]
  },
  {
   "cell_type": "code",
   "execution_count": 70,
   "id": "acdaf92e-5911-48db-9f14-3a64d03bb851",
   "metadata": {},
   "outputs": [],
   "source": [
    "# check that there are no NaNs\n",
    "#student_train_edit['graduated_semester_idx'].isna().sum()"
   ]
  },
  {
   "cell_type": "code",
   "execution_count": 71,
   "id": "5434b5bc-b6aa-4b89-beb7-6f8d5b433490",
   "metadata": {},
   "outputs": [],
   "source": [
    "# impute 0 for all enrolled_in_previous_semester missing values in semester 1\n",
    "\n",
    "student_train_edit.loc[student_train_edit['semester_idx']==1, ['enrolled_in_previous_semester']] = student_train_edit.loc[student_train_edit['semester_idx']==1, ['enrolled_in_previous_semester']].fillna(0)"
   ]
  },
  {
   "cell_type": "code",
   "execution_count": 72,
   "id": "1f6eaf49-a554-4b21-8a82-55c5ea8fcbd9",
   "metadata": {},
   "outputs": [
    {
     "data": {
      "text/plain": [
       "enrolled_in_previous_semester    0\n",
       "dtype: int64"
      ]
     },
     "execution_count": 72,
     "metadata": {},
     "output_type": "execute_result"
    }
   ],
   "source": [
    "# check that there are no NaNs in semester 1 for enrolled_in_previous_semester\n",
    "\n",
    "student_train_edit.loc[student_train_edit['semester_idx']==1, ['enrolled_in_previous_semester']].isna().sum()"
   ]
  },
  {
   "cell_type": "code",
   "execution_count": 73,
   "id": "16f01149-ffc8-43ae-a2da-8d8cecd4463d",
   "metadata": {},
   "outputs": [],
   "source": [
    "# for simplicity's sake, impute 1 for all enrolled_in_previous_semester missing values in other semesters\n",
    "# there are only missing values up to semester 6, so have loop run to 6th semester\n",
    "\n",
    "for i in range(2, 7):\n",
    "    student_train_edit.loc[student_train_edit['semester_idx']==i, ['enrolled_in_previous_semester']] = student_train_edit.loc[student_train_edit['semester_idx']==i, ['enrolled_in_previous_semester']].fillna(1)"
   ]
  },
  {
   "cell_type": "code",
   "execution_count": 74,
   "id": "2aa269df-f15d-4a0c-85c7-5ea801f0103b",
   "metadata": {},
   "outputs": [
    {
     "data": {
      "text/plain": [
       "0"
      ]
     },
     "execution_count": 74,
     "metadata": {},
     "output_type": "execute_result"
    }
   ],
   "source": [
    "# check that there are no NaNs left\n",
    "\n",
    "student_train_edit['enrolled_in_previous_semester'].isna().sum()"
   ]
  },
  {
   "cell_type": "code",
   "execution_count": 75,
   "id": "5c9a769f-4596-4300-a848-ce18bf99f99a",
   "metadata": {},
   "outputs": [
    {
     "data": {
      "text/plain": [
       "0"
      ]
     },
     "execution_count": 75,
     "metadata": {},
     "output_type": "execute_result"
    }
   ],
   "source": [
    "student_test_edit.loc[student_test_edit['semester_idx']==1, ['enrolled_in_previous_semester']] = student_test_edit.loc[student_test_edit['semester_idx']==1, ['enrolled_in_previous_semester']].fillna(0)\n",
    "# student_test_edit.loc[student_test_edit['semester_idx']==1, ['enrolled_in_previous_semester']].isna().sum()\n",
    "\n",
    "for i in range(2, 16):\n",
    "    student_test_edit.loc[student_test_edit['semester_idx']==i, ['enrolled_in_previous_semester']] = student_test_edit.loc[student_test_edit['semester_idx']==i, ['enrolled_in_previous_semester']].fillna(1)\n",
    "    \n",
    "student_test_edit['enrolled_in_previous_semester'].isna().sum()"
   ]
  },
  {
   "cell_type": "code",
   "execution_count": 76,
   "id": "fec97d02-09d8-4907-87a5-2e8c7753dc37",
   "metadata": {},
   "outputs": [],
   "source": [
    "from sklearn.pipeline import Pipeline\n",
    "from sklearn.compose import ColumnTransformer\n",
    "from sklearn.preprocessing import StandardScaler, OneHotEncoder\n",
    "from sklearn.base import TransformerMixin\n",
    "from sklearn.impute import SimpleImputer\n",
    "\n",
    "# create a custom transformer for the enrolled_in_previous_semester column\n",
    "#class Enr_Prev_Imputer(TransformerMixin):\n",
    "    \n",
    "    #def fit(self, X, y):\n",
    "        # self.fill_with = X.columns\n",
    "        #return self\n",
    "\n",
    "    #def transform(self, X):\n",
    "        #X = X.fillna(0)\n",
    "\n",
    "\n",
    "# other_attribs = list(student_train)\n",
    "cat_attribs = ['female', 'white_asian', 'first_gen', 'n_majors', \n",
    "               'graduates_next_semester', 'graduated', 'enrolled_in_previous_semester']\n",
    "scale_attribs = ['total_semester_credit_hours', 'cumulative_credit_hours', 'AP_credit_hours',\n",
    "                'major_credits', 'nonmajor_credits', 'major_gpa', 'nonmajor_gpa', 'avg_grade', 'cumulative_avg_grade',\n",
    "                'fraction_above_or_below_fulltime_credithours']\n",
    "# mode_attribs = ['start_age', 'graduated_semester_idx']\n",
    "\n",
    "full_pipeline = ColumnTransformer(\n",
    "                [(\"impute mode age\", SimpleImputer(strategy=\"most_frequent\"), ['start_age']),\n",
    "                (\"impute mode sem\", SimpleImputer(strategy=\"most_frequent\"), ['graduated_semester_idx']),\n",
    "                # (\"impute enrolled_in_previous_semester\", Enr_Prev_Imputer(), ['enrolled_in_previous_semester'])\n",
    "                # (\"cat\", OneHotEncoder(handle_unknown='infrequent_if_exist'), cat_attribs),\n",
    "                (\"scale\", StandardScaler(), scale_attribs)],\n",
    "                remainder='passthrough')\n",
    "\n",
    "student_train_prepared = full_pipeline.fit_transform(student_train_edit.drop(columns=['changed_major']))\n",
    "student_test_prepared = full_pipeline.transform(student_test_edit.drop(columns=['changed_major']))"
   ]
  },
  {
   "cell_type": "code",
   "execution_count": 77,
   "id": "8bcf18dd-9fad-4edc-afc0-fdea814adf39",
   "metadata": {},
   "outputs": [
    {
     "data": {
      "text/plain": [
       "array([19.        , 10.        ,  0.52680296, -1.3970803 , -0.42315496,\n",
       "       -0.93040847,  0.99186733, -0.85619561,  1.37992502,  0.8248729 ,\n",
       "        0.8248729 ,  0.28301645,  1.        ,  1.        ,  1.        ,\n",
       "        0.        ,  1.        ,  0.        ,  1.        ,  0.        ])"
      ]
     },
     "execution_count": 77,
     "metadata": {},
     "output_type": "execute_result"
    }
   ],
   "source": [
    "# create X and y train and test sets\n",
    "\n",
    "y_train = np.asarray(student_train['changed_major'])\n",
    "X_train = student_train_prepared\n",
    "y_test = np.asarray(student_test['changed_major'])\n",
    "X_test = student_test_prepared\n",
    "\n",
    "X_train[0]"
   ]
  },
  {
   "cell_type": "code",
   "execution_count": 78,
   "id": "b22aaf3f-4c25-405e-b44c-1646475a8d65",
   "metadata": {},
   "outputs": [
    {
     "data": {
      "text/plain": [
       "(776357, 20)"
      ]
     },
     "execution_count": 78,
     "metadata": {},
     "output_type": "execute_result"
    }
   ],
   "source": [
    "X_train.shape"
   ]
  },
  {
   "cell_type": "code",
   "execution_count": 79,
   "id": "fe3a630e-f677-4a2d-93f3-04f2a2acee6f",
   "metadata": {},
   "outputs": [
    {
     "data": {
      "text/plain": [
       "(777167, 20)"
      ]
     },
     "execution_count": 79,
     "metadata": {},
     "output_type": "execute_result"
    }
   ],
   "source": [
    "X_test.shape"
   ]
  },
  {
   "cell_type": "code",
   "execution_count": 80,
   "id": "1e1e2432-819c-42aa-a633-853d62d423fc",
   "metadata": {},
   "outputs": [
    {
     "data": {
      "text/plain": [
       "0"
      ]
     },
     "execution_count": 80,
     "metadata": {},
     "output_type": "execute_result"
    }
   ],
   "source": [
    "np.count_nonzero(np.isnan(student_train_prepared))"
   ]
  },
  {
   "cell_type": "markdown",
   "id": "a4a2f1fd-e9c3-41ce-bf47-23fe192829c0",
   "metadata": {},
   "source": [
    "## Training initial models\n",
    "\n",
    "##### Overview:\n",
    "- Train the following models: Stochastic Gradient Descent classifier (SGDClassifier), logistic regression\n",
    "- Use recursive feature elimination to further select features (15 out of the original 20) before training each model\n",
    "- Use cross-validation"
   ]
  },
  {
   "cell_type": "code",
   "execution_count": 81,
   "id": "19ac499b-7aa8-4acc-903a-291b7125134f",
   "metadata": {},
   "outputs": [],
   "source": [
    "import sklearn\n",
    "from sklearn.linear_model import SGDClassifier\n",
    "from sklearn.feature_selection import RFE\n",
    "\n",
    "# create SGDClassifier estimator\n",
    "sgd_clf = SGDClassifier(random_state=42)\n",
    "# create recursive feature elimination object, fit to data and create new X train array\n",
    "rfe_sgd = RFE(estimator=sgd_clf, n_features_to_select=15)\n",
    "X_train_sgd = rfe_sgd.fit_transform(X_train, y_train)\n",
    "X_test_sgd = rfe_sgd.transform(X_test)"
   ]
  },
  {
   "cell_type": "code",
   "execution_count": 82,
   "id": "19d345c6-59b8-4782-bc26-918c3bec9ffd",
   "metadata": {},
   "outputs": [
    {
     "name": "stdout",
     "output_type": "stream",
     "text": [
      "[ True  True  True  True False  True  True False  True False  True  True\n",
      " False False  True  True  True  True  True  True]\n",
      "[1 1 1 1 5 1 1 6 1 2 1 1 3 4 1 1 1 1 1 1]\n"
     ]
    }
   ],
   "source": [
    "print(rfe_sgd.support_)\n",
    "print(rfe_sgd.ranking_)"
   ]
  },
  {
   "cell_type": "code",
   "execution_count": 83,
   "id": "b119f028-11d9-49b8-8c54-660d9ba4e35d",
   "metadata": {},
   "outputs": [
    {
     "data": {
      "text/html": [
       "<style>#sk-container-id-1 {color: black;background-color: white;}#sk-container-id-1 pre{padding: 0;}#sk-container-id-1 div.sk-toggleable {background-color: white;}#sk-container-id-1 label.sk-toggleable__label {cursor: pointer;display: block;width: 100%;margin-bottom: 0;padding: 0.3em;box-sizing: border-box;text-align: center;}#sk-container-id-1 label.sk-toggleable__label-arrow:before {content: \"▸\";float: left;margin-right: 0.25em;color: #696969;}#sk-container-id-1 label.sk-toggleable__label-arrow:hover:before {color: black;}#sk-container-id-1 div.sk-estimator:hover label.sk-toggleable__label-arrow:before {color: black;}#sk-container-id-1 div.sk-toggleable__content {max-height: 0;max-width: 0;overflow: hidden;text-align: left;background-color: #f0f8ff;}#sk-container-id-1 div.sk-toggleable__content pre {margin: 0.2em;color: black;border-radius: 0.25em;background-color: #f0f8ff;}#sk-container-id-1 input.sk-toggleable__control:checked~div.sk-toggleable__content {max-height: 200px;max-width: 100%;overflow: auto;}#sk-container-id-1 input.sk-toggleable__control:checked~label.sk-toggleable__label-arrow:before {content: \"▾\";}#sk-container-id-1 div.sk-estimator input.sk-toggleable__control:checked~label.sk-toggleable__label {background-color: #d4ebff;}#sk-container-id-1 div.sk-label input.sk-toggleable__control:checked~label.sk-toggleable__label {background-color: #d4ebff;}#sk-container-id-1 input.sk-hidden--visually {border: 0;clip: rect(1px 1px 1px 1px);clip: rect(1px, 1px, 1px, 1px);height: 1px;margin: -1px;overflow: hidden;padding: 0;position: absolute;width: 1px;}#sk-container-id-1 div.sk-estimator {font-family: monospace;background-color: #f0f8ff;border: 1px dotted black;border-radius: 0.25em;box-sizing: border-box;margin-bottom: 0.5em;}#sk-container-id-1 div.sk-estimator:hover {background-color: #d4ebff;}#sk-container-id-1 div.sk-parallel-item::after {content: \"\";width: 100%;border-bottom: 1px solid gray;flex-grow: 1;}#sk-container-id-1 div.sk-label:hover label.sk-toggleable__label {background-color: #d4ebff;}#sk-container-id-1 div.sk-serial::before {content: \"\";position: absolute;border-left: 1px solid gray;box-sizing: border-box;top: 0;bottom: 0;left: 50%;z-index: 0;}#sk-container-id-1 div.sk-serial {display: flex;flex-direction: column;align-items: center;background-color: white;padding-right: 0.2em;padding-left: 0.2em;position: relative;}#sk-container-id-1 div.sk-item {position: relative;z-index: 1;}#sk-container-id-1 div.sk-parallel {display: flex;align-items: stretch;justify-content: center;background-color: white;position: relative;}#sk-container-id-1 div.sk-item::before, #sk-container-id-1 div.sk-parallel-item::before {content: \"\";position: absolute;border-left: 1px solid gray;box-sizing: border-box;top: 0;bottom: 0;left: 50%;z-index: -1;}#sk-container-id-1 div.sk-parallel-item {display: flex;flex-direction: column;z-index: 1;position: relative;background-color: white;}#sk-container-id-1 div.sk-parallel-item:first-child::after {align-self: flex-end;width: 50%;}#sk-container-id-1 div.sk-parallel-item:last-child::after {align-self: flex-start;width: 50%;}#sk-container-id-1 div.sk-parallel-item:only-child::after {width: 0;}#sk-container-id-1 div.sk-dashed-wrapped {border: 1px dashed gray;margin: 0 0.4em 0.5em 0.4em;box-sizing: border-box;padding-bottom: 0.4em;background-color: white;}#sk-container-id-1 div.sk-label label {font-family: monospace;font-weight: bold;display: inline-block;line-height: 1.2em;}#sk-container-id-1 div.sk-label-container {text-align: center;}#sk-container-id-1 div.sk-container {/* jupyter's `normalize.less` sets `[hidden] { display: none; }` but bootstrap.min.css set `[hidden] { display: none !important; }` so we also need the `!important` here to be able to override the default hidden behavior on the sphinx rendered scikit-learn.org. See: https://github.com/scikit-learn/scikit-learn/issues/21755 */display: inline-block !important;position: relative;}#sk-container-id-1 div.sk-text-repr-fallback {display: none;}</style><div id=\"sk-container-id-1\" class=\"sk-top-container\"><div class=\"sk-text-repr-fallback\"><pre>SGDClassifier(random_state=42)</pre><b>In a Jupyter environment, please rerun this cell to show the HTML representation or trust the notebook. <br />On GitHub, the HTML representation is unable to render, please try loading this page with nbviewer.org.</b></div><div class=\"sk-container\" hidden><div class=\"sk-item\"><div class=\"sk-estimator sk-toggleable\"><input class=\"sk-toggleable__control sk-hidden--visually\" id=\"sk-estimator-id-1\" type=\"checkbox\" checked><label for=\"sk-estimator-id-1\" class=\"sk-toggleable__label sk-toggleable__label-arrow\">SGDClassifier</label><div class=\"sk-toggleable__content\"><pre>SGDClassifier(random_state=42)</pre></div></div></div></div></div>"
      ],
      "text/plain": [
       "SGDClassifier(random_state=42)"
      ]
     },
     "execution_count": 83,
     "metadata": {},
     "output_type": "execute_result"
    }
   ],
   "source": [
    "# train the SGDClassifier estimator\n",
    "sgd_clf.fit(X_train_sgd, y_train)"
   ]
  },
  {
   "cell_type": "code",
   "execution_count": 84,
   "id": "26029a6c-dada-422e-a2a7-6139b5239fe2",
   "metadata": {},
   "outputs": [],
   "source": [
    "# predict on the test set\n",
    "#sgd_predictions = sgd_clf.predict(X_test_sgd)"
   ]
  },
  {
   "cell_type": "code",
   "execution_count": 85,
   "id": "406fddbc-e60e-41f7-b381-300c6a737c8e",
   "metadata": {},
   "outputs": [],
   "source": [
    "#unique, counts = np.unique(sgd_predictions, return_counts=True)\n",
    "#unique"
   ]
  },
  {
   "cell_type": "code",
   "execution_count": 86,
   "id": "21bdf635-97de-4d2d-8882-9ced5c01e2bc",
   "metadata": {},
   "outputs": [],
   "source": [
    "from sklearn.metrics import mean_squared_error\n",
    "\n",
    "#sgd_mse = mean_squared_error(y_test, sgd_predictions)\n",
    "#sgd_rmse = np.sqrt(sgd_mse)\n",
    "#sgd_rmse"
   ]
  },
  {
   "cell_type": "code",
   "execution_count": 87,
   "id": "a421369b-89d7-49fb-9d67-87b4bd795041",
   "metadata": {},
   "outputs": [
    {
     "name": "stdout",
     "output_type": "stream",
     "text": [
      "[0. 0. 0. ... 0. 0. 0.]\n"
     ]
    }
   ],
   "source": [
    "from sklearn.model_selection import cross_val_predict, cross_val_score\n",
    "\n",
    "sgd_cross_val_pred = cross_val_predict(sgd_clf, X_train_sgd, y_train, cv=3)\n",
    "\n",
    "# with np.printoptions(threshold=np.inf):\n",
    "    # print(sgd_cross_val_pred)\n",
    "\n",
    "print(sgd_cross_val_pred)"
   ]
  },
  {
   "cell_type": "code",
   "execution_count": 88,
   "id": "3a698b46-8860-4745-a728-1f210177c6bc",
   "metadata": {},
   "outputs": [
    {
     "data": {
      "text/plain": [
       "array([-0.10244758, -0.10245145, -0.10244798])"
      ]
     },
     "execution_count": 88,
     "metadata": {},
     "output_type": "execute_result"
    }
   ],
   "source": [
    "sgd_scores = cross_val_score(sgd_clf, X_train_sgd, y_train, scoring=\"neg_mean_squared_error\", cv=3)\n",
    "sgd_scores"
   ]
  },
  {
   "cell_type": "code",
   "execution_count": 89,
   "id": "d69c548f-a9a2-45dd-bba3-d1194a31809a",
   "metadata": {},
   "outputs": [
    {
     "data": {
      "text/plain": [
       "array([[696820,      0],\n",
       "       [ 79537,      0]], dtype=int64)"
      ]
     },
     "execution_count": 89,
     "metadata": {},
     "output_type": "execute_result"
    }
   ],
   "source": [
    "from sklearn.metrics import confusion_matrix\n",
    "\n",
    "confusion_matrix(y_train, sgd_cross_val_pred)"
   ]
  },
  {
   "cell_type": "code",
   "execution_count": 90,
   "id": "faafeb6b-1f82-47a6-9872-f1d88e013bbb",
   "metadata": {},
   "outputs": [
    {
     "name": "stderr",
     "output_type": "stream",
     "text": [
      "C:\\Users\\Cassandra\\anaconda_3\\lib\\site-packages\\sklearn\\metrics\\_classification.py:1344: UndefinedMetricWarning: Precision is ill-defined and being set to 0.0 due to no predicted samples. Use `zero_division` parameter to control this behavior.\n",
      "  _warn_prf(average, modifier, msg_start, len(result))\n"
     ]
    },
    {
     "name": "stdout",
     "output_type": "stream",
     "text": [
      "0.0\n",
      "0.0\n"
     ]
    }
   ],
   "source": [
    "from sklearn.metrics import precision_score, recall_score, f1_score\n",
    "print(precision_score(y_train, sgd_cross_val_pred))\n",
    "print(recall_score(y_train, sgd_cross_val_pred))"
   ]
  },
  {
   "cell_type": "code",
   "execution_count": 91,
   "id": "1f04cabb-55cb-41b5-8e55-9d8921b508ad",
   "metadata": {},
   "outputs": [],
   "source": [
    "#from sklearn.ensemble import RandomForestClassifier\n",
    "\n",
    "#rnd_clf = RandomForestClassifier(n_estimators=500, max_leaf_nodes=16, n_jobs=-1)"
   ]
  },
  {
   "cell_type": "code",
   "execution_count": 92,
   "id": "80c35da9-9a0f-4e27-903d-8c59944ba50f",
   "metadata": {},
   "outputs": [],
   "source": [
    "#rfe_rnd = RFE(estimator=rnd_clf, n_features_to_select=15)\n",
    "#rfe_rnd.fit(X_train, y_train)\n",
    "#X_train_rnd = rfe_rnd.fit_transform(X_train, y_train)"
   ]
  },
  {
   "cell_type": "code",
   "execution_count": 93,
   "id": "9f0c6669-bbe7-48c0-9420-38b6b57e7931",
   "metadata": {},
   "outputs": [],
   "source": [
    "#rfe_cross_val_pred = cross_val_predict(rnd_clf, X_train_rnd, y_train, cv=3)"
   ]
  },
  {
   "cell_type": "code",
   "execution_count": 94,
   "id": "f09ae132-8b95-48b6-b4d4-6ba42b0c1515",
   "metadata": {},
   "outputs": [],
   "source": [
    "from sklearn.linear_model import LogisticRegression, LinearRegression\n",
    "\n",
    "log_reg = LogisticRegression(max_iter=1000)"
   ]
  },
  {
   "cell_type": "code",
   "execution_count": 118,
   "id": "92d760f9-b81c-4c43-a904-d8228599fb2a",
   "metadata": {},
   "outputs": [],
   "source": [
    "# define a function to generate cross validation scores for every\n",
    "\n",
    "def rfe_vary_features(est, num_features):\n",
    "    max_scores = np.zeros(num_features-1)\n",
    "    num_features = 2\n",
    "    for i in range(2, num_features+1):\n",
    "        rfe_log = RFE(estimator=est, n_features_to_select=i)\n",
    "        X_train_log = rfe_log.fit_transform(X_train, y_train)\n",
    "        log_cross_val_scores = cross_val_score(log_reg, X_train_log, y_train, cv=3)\n",
    "        max_scores[i-2] = np.amax(log_cross_val_scores)\n",
    "    return max_scores"
   ]
  },
  {
   "cell_type": "code",
   "execution_count": 119,
   "id": "3992af3f-a285-4d8a-b11c-ff7d1f4b8b05",
   "metadata": {},
   "outputs": [],
   "source": [
    "max_log_scores = rfe_vary_features(log_reg, 20)"
   ]
  },
  {
   "cell_type": "code",
   "execution_count": 120,
   "id": "e957cb2e-a9d1-4938-9e6c-c375d7448787",
   "metadata": {},
   "outputs": [
    {
     "data": {
      "text/plain": [
       "array([0.89755242, 0.        , 0.        , 0.        , 0.        ,\n",
       "       0.        , 0.        , 0.        , 0.        , 0.        ,\n",
       "       0.        , 0.        , 0.        , 0.        , 0.        ,\n",
       "       0.        , 0.        , 0.        , 0.        ])"
      ]
     },
     "execution_count": 120,
     "metadata": {},
     "output_type": "execute_result"
    }
   ],
   "source": [
    "max_log_scores"
   ]
  },
  {
   "cell_type": "code",
   "execution_count": 95,
   "id": "8f0e9f03-457c-400d-bff5-ddfec5cdc2ec",
   "metadata": {},
   "outputs": [],
   "source": [
    "rfe_log = RFE(estimator=log_reg, n_features_to_select=15)\n",
    "X_train_log = rfe_log.fit_transform(X_train, y_train)\n",
    "X_test_log = rfe_log.transform(X_test)"
   ]
  },
  {
   "cell_type": "code",
   "execution_count": 96,
   "id": "90abeb2d-a815-4b06-b689-50aca6e451d2",
   "metadata": {},
   "outputs": [],
   "source": [
    "log_cross_val_pred = cross_val_predict(log_reg, X_train_log, y_train, cv=3)"
   ]
  },
  {
   "cell_type": "code",
   "execution_count": 97,
   "id": "83c525d5-81c5-4225-9db8-f01ca59ac36a",
   "metadata": {},
   "outputs": [
    {
     "data": {
      "text/plain": [
       "array([1., 0., 0., ..., 0., 0., 0.])"
      ]
     },
     "execution_count": 97,
     "metadata": {},
     "output_type": "execute_result"
    }
   ],
   "source": [
    "log_cross_val_pred"
   ]
  },
  {
   "cell_type": "code",
   "execution_count": 98,
   "id": "5612004e-c06e-4204-872c-a55930e103e1",
   "metadata": {},
   "outputs": [
    {
     "data": {
      "text/plain": [
       "array([[624607,  72213],\n",
       "       [ 79222,    315]], dtype=int64)"
      ]
     },
     "execution_count": 98,
     "metadata": {},
     "output_type": "execute_result"
    }
   ],
   "source": [
    "confusion_matrix(y_train, log_cross_val_pred)"
   ]
  },
  {
   "cell_type": "code",
   "execution_count": 99,
   "id": "adc95d81-9923-4415-90e7-62e2dfe8f24a",
   "metadata": {},
   "outputs": [
    {
     "name": "stdout",
     "output_type": "stream",
     "text": [
      "0.004343150231634679\n",
      "0.003960420936168073\n"
     ]
    }
   ],
   "source": [
    "print(precision_score(y_train, log_cross_val_pred))\n",
    "print(recall_score(y_train, log_cross_val_pred))"
   ]
  },
  {
   "cell_type": "code",
   "execution_count": 100,
   "id": "86264c9a-5a3e-4f3b-a4d7-a40001ad449a",
   "metadata": {},
   "outputs": [
    {
     "data": {
      "text/plain": [
       "0.004142965179364088"
      ]
     },
     "execution_count": 100,
     "metadata": {},
     "output_type": "execute_result"
    }
   ],
   "source": [
    "f1_score(y_train, log_cross_val_pred)"
   ]
  },
  {
   "cell_type": "code",
   "execution_count": 101,
   "id": "30708710-89f8-4f2e-8fff-e8ee23707283",
   "metadata": {},
   "outputs": [
    {
     "data": {
      "text/plain": [
       "array([-0.38027559, -0.10245145, -0.10244798])"
      ]
     },
     "execution_count": 101,
     "metadata": {},
     "output_type": "execute_result"
    }
   ],
   "source": [
    "log_scores = cross_val_score(log_reg, X_train_log, y_train, scoring=\"neg_mean_squared_error\", cv=3)\n",
    "log_scores"
   ]
  },
  {
   "cell_type": "markdown",
   "id": "d17eb91d-56bd-4f29-9419-4bca5bdb4ce6",
   "metadata": {},
   "source": [
    "## Fine-tune promising models\n",
    "\n",
    "- Use randomized search to tune the hyperparameters of the logistic regression model"
   ]
  },
  {
   "cell_type": "code",
   "execution_count": 107,
   "id": "2507e4f6-ab03-4b7e-82e6-3e8ec399e8db",
   "metadata": {},
   "outputs": [
    {
     "data": {
      "text/html": [
       "<style>#sk-container-id-5 {color: black;background-color: white;}#sk-container-id-5 pre{padding: 0;}#sk-container-id-5 div.sk-toggleable {background-color: white;}#sk-container-id-5 label.sk-toggleable__label {cursor: pointer;display: block;width: 100%;margin-bottom: 0;padding: 0.3em;box-sizing: border-box;text-align: center;}#sk-container-id-5 label.sk-toggleable__label-arrow:before {content: \"▸\";float: left;margin-right: 0.25em;color: #696969;}#sk-container-id-5 label.sk-toggleable__label-arrow:hover:before {color: black;}#sk-container-id-5 div.sk-estimator:hover label.sk-toggleable__label-arrow:before {color: black;}#sk-container-id-5 div.sk-toggleable__content {max-height: 0;max-width: 0;overflow: hidden;text-align: left;background-color: #f0f8ff;}#sk-container-id-5 div.sk-toggleable__content pre {margin: 0.2em;color: black;border-radius: 0.25em;background-color: #f0f8ff;}#sk-container-id-5 input.sk-toggleable__control:checked~div.sk-toggleable__content {max-height: 200px;max-width: 100%;overflow: auto;}#sk-container-id-5 input.sk-toggleable__control:checked~label.sk-toggleable__label-arrow:before {content: \"▾\";}#sk-container-id-5 div.sk-estimator input.sk-toggleable__control:checked~label.sk-toggleable__label {background-color: #d4ebff;}#sk-container-id-5 div.sk-label input.sk-toggleable__control:checked~label.sk-toggleable__label {background-color: #d4ebff;}#sk-container-id-5 input.sk-hidden--visually {border: 0;clip: rect(1px 1px 1px 1px);clip: rect(1px, 1px, 1px, 1px);height: 1px;margin: -1px;overflow: hidden;padding: 0;position: absolute;width: 1px;}#sk-container-id-5 div.sk-estimator {font-family: monospace;background-color: #f0f8ff;border: 1px dotted black;border-radius: 0.25em;box-sizing: border-box;margin-bottom: 0.5em;}#sk-container-id-5 div.sk-estimator:hover {background-color: #d4ebff;}#sk-container-id-5 div.sk-parallel-item::after {content: \"\";width: 100%;border-bottom: 1px solid gray;flex-grow: 1;}#sk-container-id-5 div.sk-label:hover label.sk-toggleable__label {background-color: #d4ebff;}#sk-container-id-5 div.sk-serial::before {content: \"\";position: absolute;border-left: 1px solid gray;box-sizing: border-box;top: 0;bottom: 0;left: 50%;z-index: 0;}#sk-container-id-5 div.sk-serial {display: flex;flex-direction: column;align-items: center;background-color: white;padding-right: 0.2em;padding-left: 0.2em;position: relative;}#sk-container-id-5 div.sk-item {position: relative;z-index: 1;}#sk-container-id-5 div.sk-parallel {display: flex;align-items: stretch;justify-content: center;background-color: white;position: relative;}#sk-container-id-5 div.sk-item::before, #sk-container-id-5 div.sk-parallel-item::before {content: \"\";position: absolute;border-left: 1px solid gray;box-sizing: border-box;top: 0;bottom: 0;left: 50%;z-index: -1;}#sk-container-id-5 div.sk-parallel-item {display: flex;flex-direction: column;z-index: 1;position: relative;background-color: white;}#sk-container-id-5 div.sk-parallel-item:first-child::after {align-self: flex-end;width: 50%;}#sk-container-id-5 div.sk-parallel-item:last-child::after {align-self: flex-start;width: 50%;}#sk-container-id-5 div.sk-parallel-item:only-child::after {width: 0;}#sk-container-id-5 div.sk-dashed-wrapped {border: 1px dashed gray;margin: 0 0.4em 0.5em 0.4em;box-sizing: border-box;padding-bottom: 0.4em;background-color: white;}#sk-container-id-5 div.sk-label label {font-family: monospace;font-weight: bold;display: inline-block;line-height: 1.2em;}#sk-container-id-5 div.sk-label-container {text-align: center;}#sk-container-id-5 div.sk-container {/* jupyter's `normalize.less` sets `[hidden] { display: none; }` but bootstrap.min.css set `[hidden] { display: none !important; }` so we also need the `!important` here to be able to override the default hidden behavior on the sphinx rendered scikit-learn.org. See: https://github.com/scikit-learn/scikit-learn/issues/21755 */display: inline-block !important;position: relative;}#sk-container-id-5 div.sk-text-repr-fallback {display: none;}</style><div id=\"sk-container-id-5\" class=\"sk-top-container\"><div class=\"sk-text-repr-fallback\"><pre>RandomizedSearchCV(cv=5, estimator=LogisticRegression(max_iter=1000),\n",
       "                   param_distributions={&#x27;C&#x27;: array([1.00000000e+00, 2.78255940e+00, 7.74263683e+00, 2.15443469e+01,\n",
       "       5.99484250e+01, 1.66810054e+02, 4.64158883e+02, 1.29154967e+03,\n",
       "       3.59381366e+03, 1.00000000e+04]),\n",
       "                                        &#x27;penalty&#x27;: [&#x27;l1&#x27;, &#x27;l2&#x27;],\n",
       "                                        &#x27;solver&#x27;: [&#x27;liblinear&#x27;, &#x27;saga&#x27;]},\n",
       "                   random_state=1, return_train_score=True, scoring=&#x27;accuracy&#x27;)</pre><b>In a Jupyter environment, please rerun this cell to show the HTML representation or trust the notebook. <br />On GitHub, the HTML representation is unable to render, please try loading this page with nbviewer.org.</b></div><div class=\"sk-container\" hidden><div class=\"sk-item sk-dashed-wrapped\"><div class=\"sk-label-container\"><div class=\"sk-label sk-toggleable\"><input class=\"sk-toggleable__control sk-hidden--visually\" id=\"sk-estimator-id-11\" type=\"checkbox\" ><label for=\"sk-estimator-id-11\" class=\"sk-toggleable__label sk-toggleable__label-arrow\">RandomizedSearchCV</label><div class=\"sk-toggleable__content\"><pre>RandomizedSearchCV(cv=5, estimator=LogisticRegression(max_iter=1000),\n",
       "                   param_distributions={&#x27;C&#x27;: array([1.00000000e+00, 2.78255940e+00, 7.74263683e+00, 2.15443469e+01,\n",
       "       5.99484250e+01, 1.66810054e+02, 4.64158883e+02, 1.29154967e+03,\n",
       "       3.59381366e+03, 1.00000000e+04]),\n",
       "                                        &#x27;penalty&#x27;: [&#x27;l1&#x27;, &#x27;l2&#x27;],\n",
       "                                        &#x27;solver&#x27;: [&#x27;liblinear&#x27;, &#x27;saga&#x27;]},\n",
       "                   random_state=1, return_train_score=True, scoring=&#x27;accuracy&#x27;)</pre></div></div></div><div class=\"sk-parallel\"><div class=\"sk-parallel-item\"><div class=\"sk-item\"><div class=\"sk-label-container\"><div class=\"sk-label sk-toggleable\"><input class=\"sk-toggleable__control sk-hidden--visually\" id=\"sk-estimator-id-12\" type=\"checkbox\" ><label for=\"sk-estimator-id-12\" class=\"sk-toggleable__label sk-toggleable__label-arrow\">estimator: LogisticRegression</label><div class=\"sk-toggleable__content\"><pre>LogisticRegression(max_iter=1000)</pre></div></div></div><div class=\"sk-serial\"><div class=\"sk-item\"><div class=\"sk-estimator sk-toggleable\"><input class=\"sk-toggleable__control sk-hidden--visually\" id=\"sk-estimator-id-13\" type=\"checkbox\" ><label for=\"sk-estimator-id-13\" class=\"sk-toggleable__label sk-toggleable__label-arrow\">LogisticRegression</label><div class=\"sk-toggleable__content\"><pre>LogisticRegression(max_iter=1000)</pre></div></div></div></div></div></div></div></div></div></div>"
      ],
      "text/plain": [
       "RandomizedSearchCV(cv=5, estimator=LogisticRegression(max_iter=1000),\n",
       "                   param_distributions={'C': array([1.00000000e+00, 2.78255940e+00, 7.74263683e+00, 2.15443469e+01,\n",
       "       5.99484250e+01, 1.66810054e+02, 4.64158883e+02, 1.29154967e+03,\n",
       "       3.59381366e+03, 1.00000000e+04]),\n",
       "                                        'penalty': ['l1', 'l2'],\n",
       "                                        'solver': ['liblinear', 'saga']},\n",
       "                   random_state=1, return_train_score=True, scoring='accuracy')"
      ]
     },
     "execution_count": 107,
     "metadata": {},
     "output_type": "execute_result"
    }
   ],
   "source": [
    "from sklearn.model_selection import RandomizedSearchCV\n",
    "from scipy.stats import loguniform\n",
    "\n",
    "C = np.logspace(0, 4, num=10)\n",
    "penalty = ['l1', 'l2']\n",
    "solver = ['liblinear', 'saga']\n",
    "rand_grid = dict(C=C, penalty=penalty, solver=solver)\n",
    "\n",
    "rand_search = RandomizedSearchCV(log_reg, rand_grid, cv=5, scoring='accuracy',\n",
    "                                return_train_score=True, random_state = 1)\n",
    "rand_search.fit(X_train_log, y_train)"
   ]
  },
  {
   "cell_type": "code",
   "execution_count": 110,
   "id": "15d9d9af-53db-4b23-a9b2-1d0f5fa2385a",
   "metadata": {},
   "outputs": [],
   "source": [
    "final_model = rand_search.best_estimator_\n",
    "final_predictions = final_model.predict(X_test_log)"
   ]
  },
  {
   "cell_type": "code",
   "execution_count": 112,
   "id": "8c32c8af-c95c-4e76-a485-21023e69a61f",
   "metadata": {},
   "outputs": [
    {
     "data": {
      "text/plain": [
       "array([[696785,      0],\n",
       "       [ 80382,      0]], dtype=int64)"
      ]
     },
     "execution_count": 112,
     "metadata": {},
     "output_type": "execute_result"
    }
   ],
   "source": [
    "confusion_matrix(y_test, final_predictions)"
   ]
  },
  {
   "cell_type": "markdown",
   "id": "c5e4925b-629f-4808-81a3-3e2bb1865d4d",
   "metadata": {},
   "source": []
  }
 ],
 "metadata": {
  "kernelspec": {
   "display_name": "Python 3",
   "language": "python",
   "name": "python3"
  },
  "language_info": {
   "codemirror_mode": {
    "name": "ipython",
    "version": 3
   },
   "file_extension": ".py",
   "mimetype": "text/x-python",
   "name": "python",
   "nbconvert_exporter": "python",
   "pygments_lexer": "ipython3",
   "version": "3.8.8"
  }
 },
 "nbformat": 4,
 "nbformat_minor": 5
}
